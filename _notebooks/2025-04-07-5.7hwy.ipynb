{
 "cells": [
  {
   "cell_type": "raw",
   "metadata": {
    "vscode": {
     "languageId": "raw"
    }
   },
   "source": [
    "---\n",
    "layout: post\n",
    "title: 5.7 Homework and popcorn hacks\n",
    "description:  5.7 Homework and popcorn hacks\n",
    "permalink: /5.7homework/\n",
    "---"
   ]
  },
  {
   "cell_type": "markdown",
   "metadata": {},
   "source": [
    "# popcorn hacks:\n",
    "\n",
    "College baord MC PPOPCORN HACK 1 = C (the values min numlist must be in sorted order) \n",
    "the array must be in a sorted order because it canoot seearcch the first half of the second half if the target is not gaurnetteed to be in one of the halfs. \n",
    "\n",
    "College baord MC PPOPCORN HACK 2 = B ( the binary search cannot be used on unsorted lists without modification)\n",
    "Since binary search much search on of the havles of the data sets for the target to be in one guarenteed half it must be sorted, so binary search cannot be used on unsorted lists. \n",
    "\n",
    "POPCORNHACK 3 = \n",
    "\n",
    "    def binary_search(arr, target):\n",
    "        low = 0\n",
    "        high = len(arr) - 1\n",
    "\n",
    "        while low <= high:\n",
    "            mid = (low + high) // 2\n",
    "            if arr[mid] == target:\n",
    "                return mid\n",
    "            elif arr[mid] < target:\n",
    "                low = mid + 1\n",
    "            else:\n",
    "                high = mid - 1\n",
    "\n",
    "        return -1  # Target not found\n",
    "\n",
    "    # Example usage:\n",
    "    arr = ['a', 'b', 'c', 'd', 'e', 'f', 'g']\n",
    "    print(binary_search(arr, 'c'))  # Output: 2\n",
    "\n"
   ]
  },
  {
   "cell_type": "markdown",
   "metadata": {},
   "source": [
    "# Homework Hack:"
   ]
  },
  {
   "cell_type": "code",
   "execution_count": 1,
   "metadata": {},
   "outputs": [
    {
     "name": "stdout",
     "output_type": "stream",
     "text": [
      "Price $1.25 was found in the list.\n",
      "Price $6.49 was found in the list.\n",
      "Price $10.0 was NOT found in the list.\n",
      "\n",
      "First few rows of sorted data:\n",
      "        Product  Price\n",
      "5        Eraser   0.50\n",
      "14  Paper Clips   0.89\n",
      "2        Pencil   0.99\n",
      "9    Glue Stick   1.25\n",
      "1           Pen   1.50\n",
      "Original row count: 15\n",
      "Cleaned row count: 15\n"
     ]
    }
   ],
   "source": [
    "import pandas as pd\n",
    "\n",
    "# Manually create the dataset from the image\n",
    "data = pd.DataFrame({\n",
    "    \"Product\": [\"Notebook\", \"Pen\", \"Pencil\", \"Backpack\", \"Calculator\", \"Eraser\", \"Binder\", \n",
    "                \"Marker\", \"Scissors\", \"Glue Stick\", \"Ruler\", \"Highlighter\", \"Stapler\", \n",
    "                \"Tape\", \"Paper Clips\"],\n",
    "    \"Price\": [2.99, 1.50, 0.99, 25.00, 15.75, 0.50, 3.99, 2.25, 4.99, 1.25, 1.99, 2.50, \n",
    "              6.49, 1.75, 0.89]\n",
    "})\n",
    "\n",
    "# Drop rows with missing values\n",
    "data_cleaned = data.dropna()\n",
    "\n",
    "# Sort the data by 'Price'\n",
    "data_sorted = data_cleaned.sort_values(by=\"Price\")\n",
    "\n",
    "# Extract sorted prices as a list\n",
    "price_list = data_sorted[\"Price\"].tolist()\n",
    "\n",
    "# Binary search function\n",
    "def binary_search(lst, target):\n",
    "    low, high = 0, len(lst) - 1\n",
    "    while low <= high:\n",
    "        mid = (low + high) // 2\n",
    "        if lst[mid] == target:\n",
    "            return True\n",
    "        elif lst[mid] < target:\n",
    "            low = mid + 1\n",
    "        else:\n",
    "            high = mid - 1\n",
    "    return False\n",
    "\n",
    "# Prices to search\n",
    "targets = [1.25, 6.49, 10.00]\n",
    "\n",
    "# Search and print results\n",
    "for price in targets:\n",
    "    found = binary_search(price_list, price)\n",
    "    if found:\n",
    "        print(f\"Price ${price} was found in the list.\")\n",
    "    else:\n",
    "        print(f\"Price ${price} was NOT found in the list.\")\n",
    "\n",
    "# Output preview\n",
    "print(\"\\nFirst few rows of sorted data:\")\n",
    "print(data_sorted.head())\n",
    "print(\"Original row count:\", len(data))\n",
    "print(\"Cleaned row count:\", len(data_cleaned))"
   ]
  }
 ],
 "metadata": {
  "kernelspec": {
   "display_name": "venv",
   "language": "python",
   "name": "python3"
  },
  "language_info": {
   "codemirror_mode": {
    "name": "ipython",
    "version": 3
   },
   "file_extension": ".py",
   "mimetype": "text/x-python",
   "name": "python",
   "nbconvert_exporter": "python",
   "pygments_lexer": "ipython3",
   "version": "3.12.7"
  }
 },
 "nbformat": 4,
 "nbformat_minor": 2
}
