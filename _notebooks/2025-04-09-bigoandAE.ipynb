{
 "cells": [
  {
   "cell_type": "raw",
   "metadata": {
    "vscode": {
     "languageId": "raw"
    }
   },
   "source": [
    "---\n",
    "layout: post\n",
    "title: Big O and AE Homework and popcorn hacks\n",
    "description:  Big O and AE Homework and popcorn hacks\n",
    "permalink: /bigOAEhomework\n",
    "---"
   ]
  },
  {
   "cell_type": "markdown",
   "metadata": {},
   "source": [
    "# Notes\n",
    "\n",
    "## Common Complexities\n",
    "\n",
    "- O(1) Constant Time: Execution time is the same regardless of the input size.\n",
    "\n",
    "- O(log n) Logarithmic: The execution time increases logarithmically as the input size grows."
   ]
  },
  {
   "cell_type": "markdown",
   "metadata": {},
   "source": [
    "# Popcorn Hack 1:"
   ]
  },
  {
   "cell_type": "code",
   "execution_count": 1,
   "metadata": {},
   "outputs": [
    {
     "name": "stdout",
     "output_type": "stream",
     "text": [
      "Third item: 3\n",
      "All items:\n",
      "1\n",
      "2\n",
      "3\n",
      "4\n",
      "5\n"
     ]
    }
   ],
   "source": [
    "arr = [1, 2, 3, 4, 5]\n",
    "\n",
    "# Print the third item (index 2) — O(1) time\n",
    "print(\"Third item:\", arr[2])\n",
    "\n",
    "# Print all items — O(n) time\n",
    "print(\"All items:\")\n",
    "for item in arr:\n",
    "    print(item)"
   ]
  },
  {
   "cell_type": "markdown",
   "metadata": {},
   "source": [
    "# Popcorn Hack 2:"
   ]
  },
  {
   "cell_type": "code",
   "execution_count": null,
   "metadata": {},
   "outputs": [],
   "source": [
    "def print_unique_pairs(arr):\n",
    "    for i in range(len(arr)):\n",
    "        for j in range(i + 1, len(arr)):\n",
    "            print(f\"({arr[i]},{arr[j]})\")\n",
    "\n",
    "# Example usage\n",
    "arr = [1, 2, 3]\n",
    "print_unique_pairs(arr)"
   ]
  },
  {
   "cell_type": "markdown",
   "metadata": {},
   "source": [
    "Explanation: The code has O(n²) time complexity because it uses two nested loops to generate all unique pairs. As the array size grows, the number of iterations increases proportionally to the square of the array length."
   ]
  },
  {
   "cell_type": "markdown",
   "metadata": {},
   "source": [
    "# Popcorn Hack 3:\n",
    "\n",
    "1) = Factorial time since it grows quickly \n",
    "\n",
    "2) Quadratic time "
   ]
  },
  {
   "cell_type": "markdown",
   "metadata": {},
   "source": [
    "# Homework Hack 1"
   ]
  },
  {
   "cell_type": "code",
   "execution_count": null,
   "metadata": {},
   "outputs": [],
   "source": [
    "import time\n",
    "\n",
    "def simulate_operations(arr, complexity):\n",
    "    n = len(arr)\n",
    "\n",
    "    print(f\"Running '{complexity}' time complexity simulation with array of size {n}...\")\n",
    "\n",
    "    if complexity == \"constant\":\n",
    "        # O(1): Accessing a single element\n",
    "        print(arr[0] if arr else \"Array is empty\")\n",
    "\n",
    "    elif complexity == \"linear\":\n",
    "        # O(n): Loop through the array once\n",
    "        for item in arr:\n",
    "            _ = item * 2  # Example operation\n",
    "\n",
    "    elif complexity == \"logarithmic\":\n",
    "        # O(log n): Binary search-like behavior\n",
    "        left, right = 0, n - 1\n",
    "        while left <= right:\n",
    "            mid = (left + right) // 2\n",
    "            _ = arr[mid]\n",
    "            left = mid + 1  # Just advancing to simulate steps\n",
    "\n",
    "    elif complexity == \"quadratic\":\n",
    "        # O(n^2): Nested loop\n",
    "        for i in arr:\n",
    "            for j in arr:\n",
    "                _ = i + j  # Example operation\n",
    "\n",
    "    elif complexity == \"cubic\":\n",
    "        # O(n^3): Triple nested loop\n",
    "        for i in arr:\n",
    "            for j in arr:\n",
    "                for k in arr:\n",
    "                    _ = i + j + k  # Example operation\n",
    "\n",
    "    elif complexity == \"exponential\":\n",
    "        # O(2^n): Fibonacci recursion (not recommended for large n)\n",
    "        def fib(x):\n",
    "            if x <= 1:\n",
    "                return x\n",
    "            return fib(x - 1) + fib(x - 2)\n",
    "\n",
    "        if n < 20:\n",
    "            _ = fib(n)  # Only safe for small n\n",
    "\n",
    "    else:\n",
    "        print(\"Unknown complexity type.\")\n",
    "\n",
    "    print(\"Operation complete.\\n\")"
   ]
  }
 ],
 "metadata": {
  "kernelspec": {
   "display_name": "venv",
   "language": "python",
   "name": "python3"
  },
  "language_info": {
   "codemirror_mode": {
    "name": "ipython",
    "version": 3
   },
   "file_extension": ".py",
   "mimetype": "text/x-python",
   "name": "python",
   "nbconvert_exporter": "python",
   "pygments_lexer": "ipython3",
   "version": "3.12.7"
  }
 },
 "nbformat": 4,
 "nbformat_minor": 2
}
