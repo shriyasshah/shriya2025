{
 "cells": [
  {
   "cell_type": "raw",
   "metadata": {
    "vscode": {
     "languageId": "raw"
    }
   },
   "source": [
    "---\n",
    "layout: post\n",
    "title: Retrospective and Self Grading\n",
    "description: This is how I plan to further use csp and how I graded myslef. \n",
    "---"
   ]
  },
  {
   "cell_type": "markdown",
   "metadata": {},
   "source": [
    "# How CSP has helped me in other ways\n",
    "\n",
    "The values and lessons I have learnt in CSP has also helped me in many ways outside of the classroom: \n",
    "\n",
    "- Internship essay prompt: what inspired a period of learning\n",
    "- Soccer team and science project communication\n",
    "- Presentation skills and handing nervousness \n",
    "- Importance of perserveering\n",
    "\n",
    "# Strengths and Weaknesses \n",
    "\n",
    "**Strengths** \n",
    "- Communication; helping my team stay on track and foucused\n",
    "- Wanting to learn and help others (Attitude)\n",
    "- Lifting the mood and making sure everyone is heard\n",
    "\n",
    "**Weaknessess** \n",
    "- Relying on my team to solve my coding bugs \n",
    "- Not knowing much code and can be a let down to my team at times \n",
    "- Panicking too quickly\n",
    "\n",
    "# Preping for Final review\n",
    "\n",
    "- Reviewd during office hours with classmates from other groups\n",
    "- Reviwed with 2 diffrent people from two different groups in period 2\n",
    "- Presented infront of my parents and sisters\n",
    "\n",
    "# Self Grade\n",
    "\n",
    "\n",
    "| Category              | Grade and why                                 |\n",
    "|----------------------------|----------------------------------------------------------|\n",
    "| 5 things done over 12 weeks | 5/5; I really improved from when I frist started this class and I feel like I have learnt a lot. |\n",
    "| Full Stack + N@M | 1.5/2; I really wroked hard to create the quiz and make sure it was ready but I could have perfected it more. |\n",
    "| Feature blog | 1/1; I really learnt a lot about how to make a good feature and how it was able to meet cpt requirements.|\n",
    "| MCQ| 1/1; I improved overall and really spent a lot of time to complete the MC. |\n",
    "| Retrospective | 0.8/1; I did a lot of prep work to prepare myself for this presentation and a lot of thinking about how this calss can be used in my future. |\n",
    "\n",
    "\n",
    "# Final self grade = 9.3/10 \n",
    "\n",
    "\n"
   ]
  }
 ],
 "metadata": {
  "language_info": {
   "name": "python"
  }
 },
 "nbformat": 4,
 "nbformat_minor": 2
}
