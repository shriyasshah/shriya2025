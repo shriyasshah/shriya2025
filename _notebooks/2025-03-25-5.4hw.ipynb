{
 "cells": [
  {
   "cell_type": "raw",
   "metadata": {
    "vscode": {
     "languageId": "raw"
    }
   },
   "source": [
    "---\n",
    "layout: post\n",
    "title: 5.4 Homework and popcorn hacks\n",
    "description:  5.4 Homework and popcorn hacks\n",
    "permalink: /5.4homework/\n",
    "---"
   ]
  },
  {
   "cell_type": "markdown",
   "metadata": {},
   "source": [
    "# CSP crowdsourcing team teach \n",
    "\n",
    "- scale of 1-10 i gave 10 \n",
    "- crowdsourcing is the methofd of gathering contributions from a large group of people, tupicallyu over the internet\n",
    "- breaks tasks into smaller pieces like a crowd \n",
    "- crowdsourcing expands acess to collaboration\n",
    "- real world examples: spotify, wikapeda, and foldit \n",
    "    - can be biased or misinformation \n",
    "- wisdom of the crowd = gernal crowd sourcxing a collective group makes a decision \n",
    "- crow creation = comapny akss. consumers to make new idea and based off of the crow\n",
    "- crowd voting = users vote on the best option from multiple choices\n",
    "- crowd funsing: people donates to fund projects \n",
    "- \n",
    "# POPCORN HACK 3: Croudsourcing is found everywhere online. Find an example of crowdsourcing and briefly explain how it uses crowdsourcing. \n",
    "\n",
    "One example is the mending matters survey that everyone had to take. This survey took the student gatherd information to decide on the mental health of students. It is an example of crowdsourcing becuase it took information and data from a large group of students. \n",
    "\n",
    "# HOMEWORK HACK: we will create a crowdsourcing Spotify playlist to conduct a crowdsourcing playlist; add two songs that fit the theme and discuss how crowdsourcing improves or harms the playlist quality. \n",
    "\n",
    "SONG 1: Locked out of heaven by Burno Mars\n",
    "\n",
    "SONG 2: Crazy In Love by beyonce and JAY-Z\n",
    "\n",
    "Adding these two songs can cause bias to one singer depending on which oens are more popular. It can also cause bias becuse you would want to add more songs that fit to your own style. "
   ]
  }
 ],
 "metadata": {
  "language_info": {
   "name": "python"
  }
 },
 "nbformat": 4,
 "nbformat_minor": 2
}
