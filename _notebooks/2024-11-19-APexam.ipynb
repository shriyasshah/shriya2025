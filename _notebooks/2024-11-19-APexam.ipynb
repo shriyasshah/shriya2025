{
 "cells": [
  {
   "cell_type": "raw",
   "metadata": {
    "vscode": {
     "languageId": "raw"
    }
   },
   "source": [
    "---\n",
    "layout: post\n",
    "title: AP Exam Reflection\n",
    "description: Overview of the AP Practice Collegeboard Exam\n",
    "---"
   ]
  },
  {
   "cell_type": "markdown",
   "metadata": {},
   "source": [
    "# AP exam practice mc review\n",
    "At first this exam was difficult becuase I had never heard some of the key terms. However once I worked with my group to problem solve and use all of our knowledge I was able to understand better. After submitting I reviewed my score of 57/66. It seemed that the areas I struggled the most with was 3.5 Boolean Expressions, 3.16 Simulations, 3.17 Algorithmic Efficiency, and 5.4 Crowdsourcing."
   ]
  },
  {
   "cell_type": "markdown",
   "metadata": {},
   "source": [
    "<span>\n",
    "<img src=\"{{site.baseurl}}/images/PracticeExam2018skill.png\" width = \"500\"  height = \"300\"/>\n",
    "</span>"
   ]
  },
  {
   "cell_type": "markdown",
   "metadata": {},
   "source": [
    "# Question by Question\n",
    "To start with questions the first one I got wrong was #14 which was on comparing loop algorithms. \n",
    "<span>\n",
    "<img src=\"{{site.baseurl}}/images/apexamQ14.png\" width = \"500\"  height = \"300\"/>\n",
    "</span>\n",
    "\n",
    "Originally I put the answer D however this was incorrect as both of the programs showed 10 values, the correct asnwer was C because each program displays 10 values but the values in program B would be one greater then those in program A. \n",
    "\n",
    "The next question I got wrong was #18 which worked with predicting births with a computer model.\n",
    "<span>\n",
    "<img src=\"{{site.baseurl}}/images/apexamQ18.png\" width = \"500\"  height = \"300\"/>\n",
    "</span>\n",
    "\n",
    "The answer I put was B which was wrong because this model would actually help provide a more accurate model. The correct option would have been C because although removing detail would allow the model to run quickly its accuracy is likley to decrease. \n",
    "\n",
    "The next question was #24 on Compression by replacing TH and IS with characters. \n",
    "<span>\n",
    "<img src=\"{{site.baseurl}}/images/apexamQ24.png\" width = \"500\"  height = \"300\"/>\n",
    "</span>\n",
    "\n",
    "The answer I but was B however I got this incorrect as I did not understand what byte pair encoding was. After some further research and understand what byte pair encoding is I can see that the correct answer is C since the enocded string can be restored back to its orignial version.\n",
    "\n",
    "The next question I got incorrect was #33 which was about an Apartment rental Web site flowchart.\n",
    "<span>\n",
    "<img src=\"{{site.baseurl}}/images/apexamQ33.png\" width = \"500\"  height = \"300\"/>\n",
    "</span>\n",
    "\n",
    "At first I thought that both conditions in the flowchart had to be true since the second bedroom = 3 only if the first floor > 10 was true. This led me to believe that this was the nesessary relationship. However I now understand that since the operator was OR instead of AND, the include would be true if either one of the conditions were also true making A the correct answer. \n",
    "\n",
    "Question #43 was the next one I got incorrect, it delt with the Runtime of algorithm for an online retailer. \n",
    "<span>\n",
    "<img src=\"{{site.baseurl}}/images/apexamQ43.png\" width = \"500\"  height = \"300\"/>\n",
    "</span>\n",
    "\n",
    "At first I thought the answer was B since I thought the items and number of steps didn't have a linear relationship so the algorithm wouldn’t run in reasonable time. However, since the number of steps is polynomial it means that it actually would run in reasonable time making the correct answer A.\n",
    "\n",
    "The next question I got incorrect was #45 about NAND logic gate. \n",
    "<span>\n",
    "<img src=\"{{site.baseurl}}/images/apexamQ45.png\" width = \"500\"  height = \"300\"/>\n",
    "</span>\n",
    "\n",
    "For this question I was extremly confused when answering it, the option I chose was A but this was incorrect since it would make it false when P and Q are different values. But the NAND gate should only be false when both P and Q are true showing that the answer is C.\n",
    "\n",
    "The next question as #46 about Infinite loops in undecideable problems. \n",
    "<span>\n",
    "<img src=\"{{site.baseurl}}/images/apexamQ46.png\" width = \"500\"  height = \"300\"/>\n",
    "</span>\n",
    "\n",
    "This one was a problem that I orginially guessed on and put the answer C, however this was wrong and the correct answer is D becuase I learned that it is impossible to solve undecidable problems for all programs and inputs.\n",
    "\n",
    "The second to last question I got incorrect was #58 about defining Internet enabled crowdsourcing. \n",
    "<span>\n",
    "<img src=\"{{site.baseurl}}/images/apexamQ58.png\" width = \"500\"  height = \"300\"/>\n",
    "</span>\n",
    "\n",
    "I got this answer incorrect because I was slightly unfamilliar with the word, however once better understanding was crowdsourcing is I understand how some problems are not able to be completed in reasonable time making the correct answer A. \n",
    "\n",
    "The last question I got wrong was #65 about Correcting errors in procedure Multiply. \n",
    "<span>\n",
    "<img src=\"{{site.baseurl}}/images/apexamQ65.png\" width = \"500\"  height = \"300\"/>\n",
    "</span>\n",
    "\n",
    "I got this question partially correct by understanding that the x is postive y is negative so I assumed it was just a inversly correlated relationship. However the other answer was not C but D because if Y is negative the condtions for = Y will not be met ince the count starts at 0 and increases from there. However, this is a question I am still somewhat confused on. "
   ]
  },
  {
   "cell_type": "markdown",
   "metadata": {},
   "source": [
    "# Overall Score review\n",
    "<span>\n",
    "<img src=\"{{site.baseurl}}/images/apexamoverallscore.png\" width = \"500\"  height = \"300\"/>\n",
    "</span>\n",
    "\n",
    "Overall as someone who is realtivly new to CSP I was proud of my score although I still have to work on. It was very helpful to work with my team as they were able to explain things to me along the way that I would likley not have gotten correct on my own. Either way I was proud of my ability to work with others and use some prior knowledge to recive a score that was relatively good. "
   ]
  }
 ],
 "metadata": {
  "language_info": {
   "name": "python"
  }
 },
 "nbformat": 4,
 "nbformat_minor": 2
}
