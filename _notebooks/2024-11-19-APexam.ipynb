{
 "cells": [
  {
   "cell_type": "raw",
   "metadata": {
    "vscode": {
     "languageId": "raw"
    }
   },
   "source": [
    "---\n",
    "layout: post\n",
    "title: AP Exam Reflection\n",
    "description: Overview of the AP Practice Collegeboard Exam\n",
    "---"
   ]
  },
  {
   "cell_type": "markdown",
   "metadata": {},
   "source": [
    "# AP exams pros and cons - Shriya Shah\n",
    "At first this exam was difficult becuase I had never heard some of the key terms. However once I worked with my group to problem solve and use all of our knowledge I was able to understand better. Specifically, most of the the questions I missed were from unit 1, even more 1D and 1A. "
   ]
  }
 ],
 "metadata": {
  "language_info": {
   "name": "python"
  }
 },
 "nbformat": 4,
 "nbformat_minor": 2
}
