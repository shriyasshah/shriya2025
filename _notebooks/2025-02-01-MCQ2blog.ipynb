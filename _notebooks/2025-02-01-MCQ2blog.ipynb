{
 "cells": [
  {
   "cell_type": "raw",
   "metadata": {
    "vscode": {
     "languageId": "raw"
    }
   },
   "source": [
    "---\n",
    "layout: post\n",
    "title: MCQ blog\n",
    "description: How the MCQ went for me and what I learnt\n",
    "---"
   ]
  },
  {
   "cell_type": "markdown",
   "metadata": {},
   "source": [
    "# MCQ score \n",
    "\n",
    "<img src=\"{{site.baseurl}}/images/MCQ2.png\" width = \"100%\">\n",
    "\n",
    "# Questions Wrong w/ Corrections\n",
    "\n",
    "**Question 4** = topic 1.D \n",
    "\n",
    "corrections: \n",
    "\n",
    "**Question 15** = topic 1.D \n",
    "\n",
    "corrections: \n",
    "\n",
    "**Question 16** = topic 4.C\n",
    "\n",
    "corrections: \n",
    "\n",
    "**Question 19** = topic 5.B\n",
    "\n",
    "corrections: \n",
    "\n",
    "**Question 20** = topic 5.B\n",
    "\n",
    "corrections: \n",
    "\n",
    "**Question 22** = topic 2.B\n",
    "\n",
    "corrections: \n",
    "\n",
    "**Question 23** = topic 1.D\n",
    "\n",
    "corrections: \n",
    "\n",
    "**Question 45** = topic 2.B\n",
    "\n",
    "corrections: \n",
    "\n",
    "**Question 46** = topic 5.A\n",
    "\n",
    "corrections: \n",
    "\n",
    "**Question 49** = topic 2.B\n",
    "\n",
    "corrections: \n",
    "\n",
    "**Question 59** = topic 5.E\n",
    "\n",
    "corrections: \n",
    "\n",
    "**Question 62** = topic 2.B\n",
    "\n",
    "corrections: \n",
    "\n",
    "**Question 67** = topic 4.C\n",
    "\n",
    "corrections: \n",
    "\n",
    "Overviewing all of this it is vital that I review Big Idea 2 and 1 the most; specifically 2.B and 1.D\n",
    "\n",
    "\n",
    "\n",
    "\n",
    "\n",
    "\n"
   ]
  }
 ],
 "metadata": {
  "language_info": {
   "name": "python"
  }
 },
 "nbformat": 4,
 "nbformat_minor": 2
}
