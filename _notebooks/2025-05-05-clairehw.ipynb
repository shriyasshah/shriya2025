{
 "cells": [
  {
   "cell_type": "raw",
   "metadata": {
    "vscode": {
     "languageId": "raw"
    }
   },
   "source": [
    "---\n",
    "layout: post\n",
    "title: Claire Hw\n",
    "description: Hw and popcorn hacks\n",
    "permalink: /chw\n",
    "---"
   ]
  },
  {
   "cell_type": "markdown",
   "metadata": {},
   "source": [
    "<script src=\"https://utteranc.es/client.js\"\n",
    "        repo=\"nighthawkcoders/shriya2025\"\n",
    "        issue-term=\"title\"\n",
    "        label=\"blogpost-comment\"\n",
    "        theme=\"github-light\"\n",
    "        crossorigin=\"anonymous\"\n",
    "        async>\n",
    "</script>"
   ]
  },
  {
   "cell_type": "markdown",
   "metadata": {},
   "source": [
    "# popcorn hack 1\n",
    "\n",
    "Logic gates are used in computers to perform fast calculations, making modern computing and software possible. They control decision-making in safety systems, ensuring machines respond automatically to conditions like sensor inputs. They also store data in memory units, allowing devices to remember states and run programs efficiently."
   ]
  },
  {
   "cell_type": "markdown",
   "metadata": {},
   "source": [
    "<script src=\"https://utteranc.es/client.js\"\n",
    "        repo=\"shriyasshah/shriya2025\"\n",
    "        issue-term=\"pathname\"\n",
    "        theme=\"github-light\"\n",
    "        crossorigin=\"anonymous\"\n",
    "        async>\n",
    "</script>"
   ]
  },
  {
   "cell_type": "markdown",
   "metadata": {},
   "source": [
    "# popcorn Hack 2\n",
    "\n",
    "Answer: A. (X AND Y) OR Z\n",
    "\n",
    "Explanation:\n",
    "\n",
    "A says: if X and Y are both 1, or Z is 1 → matches perfectly.\n",
    "\n",
    "B says: X AND (Y OR Z) → this is different, because here X must be 1 no matter what.\n",
    "\n",
    "C says: (X OR Y) AND Z → here Z must be 1, and either X or Y.\n",
    "\n",
    "D says: NOT(X AND Y) OR Z → this is more like “if X and Y are not both 1, or Z is 1,” which is not the same."
   ]
  },
  {
   "cell_type": "code",
   "execution_count": 1,
   "metadata": {},
   "outputs": [
    {
     "name": "stdout",
     "output_type": "stream",
     "text": [
      "1\n",
      "0\n",
      "0\n",
      "0\n"
     ]
    }
   ],
   "source": [
    "def secure_entry_system(keycard, pin, voice):\n",
    "    def AND(a, b):\n",
    "        return a & b  # AND logic\n",
    "\n",
    "    # Combine keycard and pin first, then combine with voice\n",
    "    return AND(AND(keycard, pin), voice)\n",
    "\n",
    "# Test cases\n",
    "print(secure_entry_system(1, 1, 1))  # Expected Output: 1 (Access Granted)\n",
    "print(secure_entry_system(1, 1, 0))  # Expected Output: 0 (Access Denied)\n",
    "print(secure_entry_system(1, 0, 1))  # Expected Output: 0 (Access Denied)\n",
    "print(secure_entry_system(0, 1, 1))  # Expected Output: 0 (Access Denied)"
   ]
  },
  {
   "cell_type": "markdown",
   "metadata": {},
   "source": [
    "# explanation\n",
    "\n",
    "Now, access is only granted if keycard, pin, and voice are all 1 (true), reflecting a stricter security system."
   ]
  }
 ],
 "metadata": {
  "kernelspec": {
   "display_name": "venv",
   "language": "python",
   "name": "python3"
  },
  "language_info": {
   "codemirror_mode": {
    "name": "ipython",
    "version": 3
   },
   "file_extension": ".py",
   "mimetype": "text/x-python",
   "name": "python",
   "nbconvert_exporter": "python",
   "pygments_lexer": "ipython3",
   "version": "3.12.7"
  }
 },
 "nbformat": 4,
 "nbformat_minor": 2
}
