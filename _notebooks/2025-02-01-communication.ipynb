{
 "cells": [
  {
   "cell_type": "raw",
   "metadata": {
    "vscode": {
     "languageId": "raw"
    }
   },
   "source": [
    "---\n",
    "layout: post\n",
    "title: API's blog\n",
    "description: Function of models and how I applied them in my project (quick overview)\n",
    "---"
   ]
  },
  {
   "cell_type": "markdown",
   "metadata": {},
   "source": [
    "# communication and teamwork\n",
    "With a oversized team of 8 communcation skills and patience were two skills I had to exersice and grow during this trimester. Even in a smaller group communication is on of the most important aspects when contrisucting a project or desinging something. \n",
    "\n",
    "I personally helped my team in communication by:\n",
    "-  creating a team groupchat\n",
    "-  sending questions and updates to the team almost daily to keep everyone on track\n",
    "-  messages to meet during office hours\n",
    "- helped conduct stand up meetings at our table to check up on the whole team. \n",
    "\n",
    "Communcation is not just a big part in this class but a big part of life in general. \n",
    "\n",
    "\n",
    "\n",
    "\n",
    "\n",
    "\n",
    "INSERT TEAM PHOTO from N@M: \n"
   ]
  }
 ],
 "metadata": {
  "language_info": {
   "name": "python"
  }
 },
 "nbformat": 4,
 "nbformat_minor": 2
}
