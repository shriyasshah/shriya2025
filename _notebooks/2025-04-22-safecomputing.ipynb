{
 "cells": [
  {
   "cell_type": "raw",
   "metadata": {
    "vscode": {
     "languageId": "raw"
    }
   },
   "source": [
    "---\n",
    "layout: post\n",
    "title: HW and Notes for Safe Computing \n",
    "description: safe comupting notes and hw\n",
    "permalink: /safecomputing/\n",
    "---"
   ]
  },
  {
   "cell_type": "markdown",
   "metadata": {},
   "source": [
    "# Safe Computing\n",
    "\n",
    "## Personal Data\n",
    "\n",
    "- Personal data refers to information related to an individual that can be used to identify them.\n",
    "\n",
    "## PII (Personally Identifiable Information)\n",
    "Examples include:\n",
    "- Age\n",
    "\n",
    "- Gender\n",
    "\n",
    "- Location\n",
    "\n",
    "- Risks of Collecting Personal Data\n",
    "\n",
    "- Unauthorized access\n",
    "\n",
    "- Data breaches\n",
    "\n",
    "- Misuse of data\n",
    "\n",
    "- Loss of privacy\n",
    "\n",
    "- Phishing attacks\n",
    "\n",
    "- Identity theft\n",
    "\n",
    "## Prevention\n",
    "\n",
    "Encrypt: Secure data by encrypting stored and transmitted information\n",
    "Strong Authentication: Use multi-factor authentication\n",
    "Regularly Update Security: Keep security systems up to date\n",
    "\n",
    "Access Control: Limit access to sensitive data\n",
    "\n",
    "Unique Passwords: Use different passwords for all accounts\n",
    "Authentication Measures\n",
    "\n",
    "Multi-Factor Authentication: Requires users to verify identity using multiple authentication factors (e.g., enter a password and then get a verification code via text)\n",
    "\n",
    "Strong Passwords: Use at least 8-16 characters, different characters and numbers, and different passwords for all accounts\n",
    "\n",
    "Multi-Factor Authentication and Security Layers: Requires multiple pieces of evidence to verify identity\n",
    "\n",
    "Encryption:\n",
    "Encodes data to prevent unauthorized access, while decryption restores it to a readable format."
   ]
  }
 ],
 "metadata": {
  "kernelspec": {
   "display_name": "venv",
   "language": "python",
   "name": "python3"
  },
  "language_info": {
   "codemirror_mode": {
    "name": "ipython",
    "version": 3
   },
   "file_extension": ".py",
   "mimetype": "text/x-python",
   "name": "python",
   "nbconvert_exporter": "python",
   "pygments_lexer": "ipython3",
   "version": "3.12.7"
  }
 },
 "nbformat": 4,
 "nbformat_minor": 2
}
