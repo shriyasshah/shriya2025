{
 "cells": [
  {
   "cell_type": "raw",
   "metadata": {
    "vscode": {
     "languageId": "raw"
    }
   },
   "source": [
    "---\n",
    "layout: post\n",
    "title: Student Panel Blog - Shriya Shah\n",
    "description: What Inspired Me At The Student Panel Discussion\n",
    "---"
   ]
  },
  {
   "cell_type": "markdown",
   "metadata": {},
   "source": [
    "# Student Panel Discussion - Girls in CS\n",
    "During the student panel it was nice to hear the past students share their key take aways from CSP so I can implemtent some of the things they shared during their discussion. \n",
    "\n",
    "This is a link to the notes I took on my notes app: https://www.icloud.com/notes/056DKOazPetSyXsWhpWfM3QVQ#CSP_NOTES\n",
    "\n",
    "# My Key Takeaways\n",
    "\n",
    "\n",
    "\n",
    "1) Github Orgnaization \n",
    "My first take away was something that Vivian Ni and Micheal Hayes said about using Github for organization. By taking Github seriously and using it effectivly for organization not only will I be able to better my communication but also my work flow and understanding. Some ways I can begin to do this are to:\n",
    "- Use branches for different types of features and work\n",
    "- Write clear and consice commit messages so both my teammates and I understand my though process\n",
    "- Creating more notebooks and blogs for each learning so I can remeber what I learn\n",
    "\n",
    "2) Understand the code line by line\n",
    "Micheal Hayes talked this about when explaining his communication with peers and teachers. This stuck with me beacause I noticed in myself I tend to jump ahead which can lead to me not fully understanding what Im doing. By taking it line by line I can deepen my understanding which can help me progress rather than understanding small patches of information. I can do this by: \n",
    "- When writing code either by myself or with teammates make sure I understand each part/line so I can keep up \n",
    "- Work with my teachers and peers to ask questions and understand all parts of my and others code\n",
    "This can help me realize what I can do better in my code and imporve my coding skills in general \n",
    "\n",
    "3) Being Passionate and Wanting to learn\n",
    "There was another speaker at the panel who had mentioned the importance of being passionate in wanting to learn the code and being apart of CSP. This inspired me to not just see CSP as another class but a problemsolving workspace that I can really learn to enjoy with my teammates. I can implment this by: \n",
    "- Not giving up when I feel like I dont understand the code and trying to problem solve\n",
    "- Challenge my self while also understand key basics so I can build a good foundation for myself \n",
    "- Practicing more outside and inside school so I can imporve my skills \n",
    "- Reviewing and \"toying\" with code by myself or with teammates so I can learn more about what code can do\n",
    "\n",
    "\n",
    "\n",
    "This is a picture of me and Manahil at the sutdent panel! \n",
    "<span>\n",
    "<img src=\"{{site.baseurl}}/images/Studentpanel.png\" width = \"500\"  height = \"300\"/>\n",
    "</span>\n",
    "\n"
   ]
  }
 ],
 "metadata": {
  "language_info": {
   "name": "python"
  }
 },
 "nbformat": 4,
 "nbformat_minor": 2
}
