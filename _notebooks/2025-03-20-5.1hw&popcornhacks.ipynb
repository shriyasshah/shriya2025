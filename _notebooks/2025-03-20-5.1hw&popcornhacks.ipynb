{
 "cells": [
  {
   "cell_type": "raw",
   "metadata": {
    "vscode": {
     "languageId": "raw"
    }
   },
   "source": [
    "---\n",
    "layout: post\n",
    "title: 5.1 Homework and popcorn hacks\n",
    "description:  5.1 Homework and popcorn hacks\n",
    "permalink: /5.1homework/\n",
    "---"
   ]
  },
  {
   "cell_type": "markdown",
   "metadata": {},
   "source": [
    "# Team teach notes: \n",
    "- benificial effects = improve procedures with marginal errors\n",
    "- enhanced data collection with one database \n",
    "- Artistic and creative expansion \n",
    "- convienence and efficiency = drones\n",
    "\n",
    "## Popcorn Hack 1 = what are harmful and benifical impacts of technological innovation: \n",
    "\n",
    "# Beneficial: \n",
    "\n",
    "faster customer service, educational opportunities, collaboration, healthcare improvements.\n",
    "\t\n",
    "    \n",
    "# Harmful: \n",
    "\n",
    "creates opportunities for cyberbullying, and job losses/displacement with non - terchonoglical companies losing money from the competition, privacy loss, dependence and loss of critical thinking.\n",
    "\n",
    "## Popcorn Hack 2 = What is the meaning of negative effects of technology and how can we use responsible programming to avoid and reduce these uninternded harmful impacts: \n",
    "\n",
    "The negative effects of technology can include but are not limited to environmental harm (e-waste), privacy violations, social issues(cyberbullying), bias in AI, and security risks. Responsible programming can mitigate these by using and improving ethical AI, securing data, reducing bias, optimizing energy efficiency, and prioritizing user well-being.\n",
    "\n",
    "\n",
    "## Popcorn Hack 3 = Why is it important to understand the unintended consequences of technology, especially dopamine-driven-technology: \n",
    "\n",
    "Understanding the unintended consequences of dopamine-driven technology is important since it can lead to addictive behaviors (dependence on tech), reduced focus on real life things, and mental health challenges due to the overstimulation of the brain’s reward system. By being aware of these effects, producers and consumers can make more informed and health consious choices to create and interact with technology in a healthier and more balanced way.\n",
    "\n",
    "\n",
    "## Homework Hack 1: \n",
    "\n",
    "**AI Innovation**: Chatbots/AI\n",
    "\n",
    "**Original Use**: Designed for customer service, answering FAQs, and providing automated support in businesses.\n",
    "\n",
    "**Benefit**s**: Gives immediate, 24/7 support for people who may not have access and quick answers\n",
    "\n",
    "**Risks**: May take jobs from teachers, students can cheat and not learn effectively. \n",
    "\n",
    "\n",
    "## Homework Hack 2: \n",
    "\n",
    "**Problem**: Misinformation spread by AI-generated content.\n",
    "\n",
    "**Risk**: AI can create and spread false or misleading information, making it harder for people to trust news sources and potentially influencing public opinion in harmful ways.\n",
    "\n",
    "**Solution 1**: Implement AI fact-checking algorithms that verify information before it is published or shared.\n",
    "\n",
    "**Solution 2**: Require transparency labels on AI-generated content, so users can distinguish between human-written and AI-created materials.\n",
    "\n",
    "**Reflection**: Ethical AI development is crucial to prevent harm and build trust in technology. Without proper safeguards, AI can spread misinformation and manipulate people. By ensuring transparency and accountability, we can create AI systems that benefit society rather than mislead it.\n",
    "\n",
    "## Homework Hack 3:\n",
    "\n",
    "**AI Example**: Microsoft’s Tay Chatbot\n",
    "\n",
    "**What Happened**: In 2016, Microsoft released Tay, an AI chatbot designed to learn from conversations on Twitter and engage with users in a friendly way. However, within 24 hours, Tay began posting offensive and racist tweets because it was influenced by users who deliberately fed it harmful language. The AI lacked safeguards to filter out inappropriate content, leading to its shutdown.\n",
    "\n",
    "**Response**: Microsoft took Tay offline within a day and later introduced stricter content moderation techniques in future AI projects to prevent similar issues.\n",
    "\n",
    "**Prevention**: Developers should have implemented stronger filters and content moderation from the start to prevent harmful learning. AI models interacting with the public should have real-time monitoring and restrictions to block inappropriate influences.\n",
    "\n",
    "\n",
    "\n"
   ]
  }
 ],
 "metadata": {
  "language_info": {
   "name": "python"
  }
 },
 "nbformat": 4,
 "nbformat_minor": 2
}
