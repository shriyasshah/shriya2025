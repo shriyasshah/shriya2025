{
 "cells": [
  {
   "cell_type": "markdown",
   "metadata": {},
   "source": [
    "---\n",
    "layout: post\n",
    "title: About Me \n",
    "description: facts about me!\n",
    "permalink: /posts/about-me\n",
    "comments: true \n",
    "---"
   ]
  },
  {
   "cell_type": "markdown",
   "metadata": {},
   "source": [
    "Creator of Student 2025\n",
    "Hi, my name is Shriya and I'm a junior at Del Norte! Outside of school I play soccer, I also play for the highschool, and I volenteer through NCL (national charity league). I also have two younger sisters and a dog! I joined CSP  because I am intrested in learning more about coding and it's what my dad does as a profession. \n",
    "<span>\n",
    "<img src=\"{{site.baseurl}}/images/shriya and bella.jpeg\" width = \"200\"  height = \"300\"/>\n",
    "<img src=\"{{site.baseurl}}/images/friends.jpeg\" width = \"300\" height = \"300\"/>\n",
    "<img src=\"{{site.baseurl}}/images/family.jpeg\" width = \"300\" height = \"300\"/>\n",
    "</span>"
   ]
  }
 ],
 "metadata": {
  "language_info": {
   "name": "python"
  }
 },
 "nbformat": 4,
 "nbformat_minor": 2
}
