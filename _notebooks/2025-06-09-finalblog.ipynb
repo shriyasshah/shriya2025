{
 "cells": [
  {
   "cell_type": "raw",
   "metadata": {
    "vscode": {
     "languageId": "raw"
    }
   },
   "source": [
    "---\n",
    "layout: post\n",
    "title: Personal Blog\n",
    "description: Final blog about personal accomplishments and learnings\n",
    "permalink: /finalblog\n",
    "---"
   ]
  },
  {
   "cell_type": "markdown",
   "metadata": {},
   "source": [
    "# Socials: \n",
    "\n",
    "LinkedIn: [Shriya's Linkedin](https://www.linkedin.com/in/shriya-shah-a31666365/)"
   ]
  },
  {
   "cell_type": "markdown",
   "metadata": {},
   "source": [
    "<script src=\"https://utteranc.es/client.js\"\n",
    "        repo=\"nighthawkcoders/shriya2025\"\n",
    "        issue-term=\"title\"\n",
    "        label=\"blogpost-comment\"\n",
    "        theme=\"github-light\"\n",
    "        crossorigin=\"anonymous\"\n",
    "        async>\n",
    "</script>"
   ]
  },
  {
   "cell_type": "markdown",
   "metadata": {},
   "source": [
    "# Overview of Projects:\n",
    "\n",
    "## DNA Dynamite - OCS/Illumina Interavtive Biotech project:\n",
    "\n",
    "**Overview of project: DNA Dynamite**\n",
    "DNA Dynamite is an interactive web game designed to make genetics and DNA base pairing fun and accessible. Players will match DNA bases before the strand scrolls away, with trivia challenges powered by Google Gemini reinforcing concepts after mistakes.\n",
    "\n",
    "<img src=\"{{site.baseurl}}/images/DNA.png\" width = \"100%\">\n",
    "\n",
    "- Contributed code to frontend and backend \n",
    "\n",
    "- Created the orignial and new/improved UI design for game\n",
    "\n",
    "- Here is a link to the design documentation that I created: [Design Documentation](https://open-coding-society.github.io/dna_dynamite/design/)\n",
    "\n",
    "- Created a Highscore popup that stores the users highscores and give a notification everytime the user scores higher. \n",
    "\n",
    "<img src=\"{{site.baseurl}}/images/highscorepopup.png\" width = \"100%\">\n",
    "\n",
    "## Binary Coders Project:\n",
    "\n",
    "**Overview of Project: Binary Coders**\n",
    "\n",
    "We created a social media platform where students and other curios peers can learn and test their knowleded about Binary. Not only was this created to help students learn about binary in preparation for the Ap exam but also prepare them for the final trimester and coding in general.\n",
    "\n",
    "- Personally I created the Binary Quiz\n",
    "\n",
    "- Frontend desining of quiz \n",
    "\n",
    "- Backend storing of quiz scores and attempt numbers \n",
    "\n",
    "- Randomized quiz questions given to user (10 questions given each time)"
   ]
  },
  {
   "cell_type": "markdown",
   "metadata": {},
   "source": [
    "# Unique Qualities and Credentials\n",
    "\n",
    "| Type of Credential | Event/Skill | Specific Details |\n",
    "|----------|----------|----------|\n",
    "| Certificate  | Basic Tools | Utilized foundational tools (GitHub, GitPod, and terminal)   |\n",
    "| Certificate  | Python data analysis  | Applied Python to structure and interpret data for game scoring and logic in DNA dynamite and Binary Coders  |\n",
    "| Certificate  | API Development  | Built and integrated scoring and attempt APIs for DNA Dynamite and Binary Coders.   |\n",
    "| NFT | Game Desgin  | Game design + mechanics for DNA Dynamite, integrating CS with science education.   |"
   ]
  },
  {
   "cell_type": "markdown",
   "metadata": {},
   "source": [
    "# Homework Certification: \n",
    "\n",
    "Link to hw grading spreadsheets: \n",
    "\n",
    "ADD screenshot of all the hw notebooks \n"
   ]
  },
  {
   "cell_type": "markdown",
   "metadata": {},
   "source": [
    "# Showcasing projects \n",
    "\n",
    "**Night @ the Museum**\n",
    "\n",
    "- Presented DNA Dynamite to over 25 visitors, including students, educators, and parents. My team and I answered questions and gathered feedback in a busy setting helping us increase our publib speaking. We also explained our game in depth to peers and students!\n",
    "\n",
    "- Presented Binary Coders website to peers and students. Got peers and adult feedback on the website as well as asnwering questions and explaing different aspects and features of our game. \n",
    "\n",
    "\n",
    "**Pilot City Interview** \n",
    "\n",
    "- Shared the educational impact and technical depth of DNA Dynamite with industry professionals (Derik Lee). This experience helped me further increase my understanding and application of biotech and put for effort and impact into our DNA Dynamite game. As a result of this interview my team and I won the Pilot City award of Excellence and even ranked 1st place out of all the projects.\n",
    "\n",
    "\n",
    "<img src=\"{{site.baseurl}}/images/namt3.png\" width = \"100%\">\n",
    "\n",
    "<img src=\"{{site.baseurl}}/images/namt2.png\" width = \"100%\">\n",
    "\n",
    "<img src=\"{{site.baseurl}}/images/pci.png\" width = \"100%\">"
   ]
  },
  {
   "cell_type": "markdown",
   "metadata": {},
   "source": [
    "# Dashboard and Predicted Grade: \n",
    "\n",
    "<img src=\"{{site.baseurl}}/images/dashboard.png\" width = \"100%\">\n",
    "\n",
    "<img src=\"{{site.baseurl}}/images/smartgrade.png\" width = \"100%\">\n"
   ]
  },
  {
   "cell_type": "markdown",
   "metadata": {},
   "source": [
    "# Overall + Future Plans: "
   ]
  }
 ],
 "metadata": {
  "kernelspec": {
   "display_name": "venv",
   "language": "python",
   "name": "python3"
  },
  "language_info": {
   "codemirror_mode": {
    "name": "ipython",
    "version": 3
   },
   "file_extension": ".py",
   "mimetype": "text/x-python",
   "name": "python",
   "nbconvert_exporter": "python",
   "pygments_lexer": "ipython3",
   "version": "3.12.7"
  }
 },
 "nbformat": 4,
 "nbformat_minor": 2
}
