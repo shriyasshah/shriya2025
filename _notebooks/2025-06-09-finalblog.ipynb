{
 "cells": [
  {
   "cell_type": "raw",
   "metadata": {
    "vscode": {
     "languageId": "raw"
    }
   },
   "source": [
    "---\n",
    "layout: post\n",
    "title: Personal Blog\n",
    "description: Final blog about personal accomplishments and learnings\n",
    "permalink: /finalblog\n",
    "---"
   ]
  },
  {
   "cell_type": "markdown",
   "metadata": {},
   "source": [
    "# Socials: \n",
    "\n",
    "LinkedIn: [Shriya's Linkedin](https://www.linkedin.com/in/shriya-shah-a31666365/)"
   ]
  },
  {
   "cell_type": "markdown",
   "metadata": {},
   "source": [
    "<script src=\"https://utteranc.es/client.js\"\n",
    "        repo=\"nighthawkcoders/shriya2025\"\n",
    "        issue-term=\"title\"\n",
    "        label=\"blogpost-comment\"\n",
    "        theme=\"github-light\"\n",
    "        crossorigin=\"anonymous\"\n",
    "        async>\n",
    "</script>"
   ]
  },
  {
   "cell_type": "markdown",
   "metadata": {},
   "source": [
    "# Overview of Projects:\n",
    "\n",
    "## DNA Dynamite - OCS/Illumina Interavtive Biotech project:\n",
    "\n",
    "**Overview of project: DNA Dynamite**\n",
    "DNA Dynamite is an interactive web game designed to make genetics and DNA base pairing fun and accessible. Players will match DNA bases before the strand scrolls away, with trivia challenges powered by Google Gemini reinforcing concepts after mistakes.\n",
    "\n",
    "<img src=\"{{site.baseurl}}/images/DNA.png\" width = \"100%\">\n",
    "\n",
    "- Created the orignial and new/improved UI design for game\n",
    "\n",
    "- Here is a link to the design documentation that I created: [Design Documentation](https://open-coding-society.github.io/dna_dynamite/design/)\n",
    "\n",
    "- Created a Highscore popup that stores the users highscores and gives a notification everytime the user scores higher. \n",
    "\n",
    "- Created a gemini API for the trivia quiz as well as a popup for the quiz \n",
    "\n",
    "- Created a popup for the instructions manul\n",
    "\n",
    "<img src=\"{{site.baseurl}}/images/highscorepopup.png\" width = \"100%\">\n",
    "\n",
    "## Binary Coders Project:\n",
    "\n",
    "**Overview of Project: Binary Coders**\n",
    "\n",
    "We created a social media platform where students and other curios peers can learn and test their knowleded about Binary. Not only was this created to help students learn about binary in preparation for the Ap exam but also prepare them for the final trimester and coding in general.\n",
    "\n",
    "- Personally I created the Binary Quiz\n",
    "\n",
    "- Frontend desining of quiz \n",
    "\n",
    "- Backend storing of quiz scores and attempt numbers \n",
    "\n",
    "- Randomized quiz questions given to user (10 questions given each time)"
   ]
  },
  {
   "cell_type": "markdown",
   "metadata": {},
   "source": [
    "# Unique Qualities and Credentials\n",
    "\n",
    "- During this trimester I played a key role in creating the frontned design of our DNA Dynamite interactive game\n",
    "\n",
    "- I also used my combined and previous knowledge of biology and biotech to create a relevant and engaging game x\n",
    "\n",
    "| Type of Credential | Event/Skill | Specific Details |\n",
    "|----------|----------|----------|\n",
    "| Certificate  | Basic Tools | Utilized foundational tools (GitHub, GitPod, and terminal)   |\n",
    "| Certificate  | Github pages | Utilized git hub pages for organization and projects   |\n",
    "| Certificate  | Python data analysis  | Applied Python to structure and interpret data for game scoring and logic in DNA dynamite and Binary Coders  |\n",
    "| Certificate  | API Development  | Built and integrated scoring and attempt APIs for DNA Dynamite and Binary Coders.   |\n",
    "| NFT | 2D Game Desgin  | Game design + mechanics for DNA Dynamite, integrating CS with science education.   |\n",
    "| NFT | Personalized Website  | unique design and implementation of GitHub Pages  |"
   ]
  },
  {
   "cell_type": "markdown",
   "metadata": {},
   "source": [
    "# Homework Certification: \n",
    "\n",
    "Link to hw grading spreadsheets: [Spreadsheet](https://docs.google.com/spreadsheets/d/144DzvGJCNFAdwL5g0mkvn9Uh-vOnWB-clap3J_yz7kE/edit?gid=0#gid=0) \n",
    "\n",
    "**Links to Homework blogs:**\n",
    "\n",
    "- [Benifical and Harmful](https://shriyasshah.github.io/shriya2025/5.1homework/)\n",
    "\n",
    "- [Digtial Divide](https://shriyasshah.github.io/shriya2025/digitaldividehw/)\n",
    "\n",
    "- [Computing Bias](https://shriyasshah.github.io/shriya2025/5.3homework/)\n",
    "\n",
    "- [Crowdsourcing Bias](https://shriyasshah.github.io/shriya2025/5.4homework/)\n",
    "\n",
    "- [Legal and Ethical Concerns](https://shriyasshah.github.io/shriya2025/5.5homework/)\n",
    "\n",
    "- [Safe Computing](https://shriyasshah.github.io/shriya2025/5.6homework/)\n",
    "\n",
    "- [Binary Search Algorithm](https://shriyasshah.github.io/shriya2025/5.7homework/)\n",
    "\n",
    "- [Big OAE](https://shriyasshah.github.io/shriya2025/bigOAEhomework)\n",
    "\n",
    "- [Logic Gates](https://shriyasshah.github.io/shriya2025/5.9homework/)\n",
    "\n",
    "- [Lists and Filtering Algorithms](https://shriyasshah.github.io/shriya2025/5.8homework/)\n",
    "\n",
    "- [Safe Computhing](https://shriyasshah.github.io/shriya2025/safecomputing/)\n",
    "\n",
    "- [Binary](https://shriyasshah.github.io/shriya2025/mhw)\n",
    "\n",
    "- [Digital Images](https://shriyasshah.github.io/shriya2025/chw)"
   ]
  },
  {
   "cell_type": "markdown",
   "metadata": {},
   "source": []
  },
  {
   "cell_type": "markdown",
   "metadata": {},
   "source": [
    "# Showcasing projects \n",
    "\n",
    "**Night @ the Museum**\n",
    "\n",
    "- Presented DNA Dynamite to over 25 visitors, including students, educators, and parents. My team and I answered questions and gathered feedback in a busy setting helping us increase our publib speaking. We also explained our game in depth to peers and students!\n",
    "\n",
    "- Presented Binary Coders website to peers and students. Got peers and adult feedback on the website as well as asnwering questions and explaing different aspects and features of our game. \n",
    "\n",
    "\n",
    "**Pilot City Interview** \n",
    "\n",
    "- Shared the educational impact and technical depth of DNA Dynamite with industry professionals (Derik Lee). This experience helped me further increase my understanding and application of biotech and put for effort and impact into our DNA Dynamite game. As a result of this interview my team and I won the Pilot City award of Excellence and even ranked 1st place out of all the projects.\n",
    "\n",
    "\n",
    "<img src=\"{{site.baseurl}}/images/namt3.png\" width = \"100%\">\n",
    "\n",
    "<img src=\"{{site.baseurl}}/images/namt2.png\" width = \"100%\">\n",
    "\n",
    "<img src=\"{{site.baseurl}}/images/pci.png\" width = \"100%\">"
   ]
  },
  {
   "cell_type": "markdown",
   "metadata": {},
   "source": [
    "# Dashboard and Predicted Grade: \n",
    "\n",
    "<img src=\"{{site.baseurl}}/images/dashboard.png\" width = \"100%\">\n",
    "\n",
    "<img src=\"{{site.baseurl}}/images/smartgrade.png\" width = \"100%\">\n"
   ]
  },
  {
   "cell_type": "markdown",
   "metadata": {},
   "source": [
    "# Overall + Future Plans: \n",
    "\n",
    "Overall throughout CSP I went from a student not knowing much about code to being one who can now make API's, models, and function games that utilize frontend design and backend storage. I have learnt so much in CSP not only about code but also about collaboration and team work, as well as networking during project presentations like N@M and the pilot city interviews. Furthermore the constand checks with my teacher have made me more confident in talking directly and presenting directly with teachers about my work and even being ok asking peers and teachers for help when I get stuck. \n",
    "\n",
    "In the future: \n",
    "\n",
    "- I can use the knowledge in the Medical field by using APIs, Models, and my new collaboration and presentation skills \n",
    "\n",
    "- Thinking about continuing to CSA \n",
    "\n",
    "- Keeping my notebooks and websites to look back upon and keep learning from \n",
    "\n",
    "- Use projects and expierences as topics about learning and growing!"
   ]
  }
 ],
 "metadata": {
  "kernelspec": {
   "display_name": "venv",
   "language": "python",
   "name": "python3"
  },
  "language_info": {
   "codemirror_mode": {
    "name": "ipython",
    "version": 3
   },
   "file_extension": ".py",
   "mimetype": "text/x-python",
   "name": "python",
   "nbconvert_exporter": "python",
   "pygments_lexer": "ipython3",
   "version": "3.12.7"
  }
 },
 "nbformat": 4,
 "nbformat_minor": 2
}
