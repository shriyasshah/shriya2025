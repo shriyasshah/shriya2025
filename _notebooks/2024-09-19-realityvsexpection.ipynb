{
 "cells": [
  {
   "cell_type": "raw",
   "metadata": {
    "vscode": {
     "languageId": "raw"
    }
   },
   "source": [
    "---\n",
    "title: Sprint 1 Challenges and Accomplishments\n",
    "description: Challenges, and Accomplishments for Sprint 1.\n",
    "type: hacks\n",
    "layout: post\n",
    "comments: true\n",
    "---"
   ]
  },
  {
   "cell_type": "markdown",
   "metadata": {},
   "source": [
    "# Accomplishments\n",
    "- Changed theme and color of my page \n",
    "- Added images and text \n",
    "- Added hacks like cookie clicker, calculator, and music\n",
    "- Added Utterences for commenting on pages \n",
    "- Create submenu with links\n",
    "\n",
    "# Challenges\n",
    "- I had trouble finding and creating the codes since I havent had much experience. However after working with my peers I was able to learn how to create and find the codes to make these accomplishments.\n",
    "\n"
   ]
  }
 ],
 "metadata": {
  "language_info": {
   "name": "python"
  }
 },
 "nbformat": 4,
 "nbformat_minor": 2
}
