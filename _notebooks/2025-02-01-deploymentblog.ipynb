{
 "cells": [
  {
   "cell_type": "raw",
   "metadata": {
    "vscode": {
     "languageId": "raw"
    }
   },
   "source": [
    "---\n",
    "layout: post\n",
    "title: Deployment blog\n",
    "description: What I contributed to the deployment of our project\n",
    "---"
   ]
  },
  {
   "cell_type": "markdown",
   "metadata": {},
   "source": [
    "# Deployment blog on our site\n",
    "\n",
    "For our teams deployment I made sure to help our team by making the deployment blog. This blog had notes on Big Idea College Board videos and lessons from Mr. Mortensen when leading deployment. \n",
    "\n",
    "Here is a link to this blog: [DEPLOYMENT BLOG](http://127.0.0.1:4887/binaryFrontend/deployment/blog/)\n",
    "\n",
    "\n",
    "\n"
   ]
  }
 ],
 "metadata": {
  "language_info": {
   "name": "python"
  }
 },
 "nbformat": 4,
 "nbformat_minor": 2
}
