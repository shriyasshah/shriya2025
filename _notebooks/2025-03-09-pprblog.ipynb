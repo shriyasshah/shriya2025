{
 "cells": [
  {
   "cell_type": "raw",
   "metadata": {
    "vscode": {
     "languageId": "raw"
    }
   },
   "source": [
    "---\n",
    "layout: post\n",
    "title: PPR blog\n",
    "description: How my feature meets the College Board Peronal Project Reference requirements\n",
    "permalink: /ppr/\n",
    "---"
   ]
  },
  {
   "cell_type": "markdown",
   "metadata": {},
   "source": [
    "# PPR \n",
    "\n",
    "<img src=\"{{site.baseurl}}/images/ppr4r.png\" width = \"100%\">\n",
    "\n",
    "\n",
    "\n",
    "# List being Created:\n",
    "\n",
    "    async function loadAttempts() {\n",
    "    const currentUserResponse = await fetch(${pythonURI}/api/id, fetchOptions);\n",
    "    if (!currentUserResponse.ok) throw new Error('Failed to fetch current user');\n",
    "    const currentUser = await currentUserResponse.json();\n",
    "    userName = currentUser.uid;\n",
    "    userID = currentUser.id;\n",
    "\n",
    "    const quizGrading = await fetch(quizGradingsApi, fetchOptions);\n",
    "    if (!quizGrading.ok) {console.error(\"Error loading attempts:\", quizGrading);}\n",
    "\n",
    "    const quizResults = await quizGrading.json();\n",
    "    console.log(quizResults);\n",
    "    }\n",
    "\n",
    "**Explanation:** The list quizResults is created by fetching the quiz attempts and scores from the backend and storing it in a variable to be processed and then displayed and loaded on the table. \n",
    "\n",
    "# List being processed:\n",
    "\n",
    "    quizResults.forEach(attempt => {\n",
    "    const row = document.createElement('tr');\n",
    "    const idCell = document.createElement('td');\n",
    "    idCell.innerHTML = attempt.id;\n",
    "    const usernameCell = document.createElement('td');\n",
    "    usernameCell.innerHTML = attempt.username;\n",
    "    const quizgradeCell = document.createElement('td');\n",
    "    quizgradeCell.innerHTML = attempt.quizgrade;\n",
    "    const attemptCell = document.createElement('td');\n",
    "    attemptCell.innerHTML = attempt.attempt;\n",
    "    const actionCell = document.createElement('td');\n",
    "    \n",
    "    if (attempt.username === userName) {\n",
    "        const deleteButton = document.createElement('button');\n",
    "        deleteButton.innerHTML = 'Delete';\n",
    "        deleteButton.addEventListener('click', () => deleteAttempt(attempt.id));\n",
    "        const editButton = document.createElement('button');\n",
    "        editButton.innerHTML = 'Edit';\n",
    "        editButton.addEventListener('click', () => editAttempt(attempt.id));\n",
    "        actionCell.append(deleteButton);\n",
    "        actionCell.append(editButton);\n",
    "    }\n",
    "    \n",
    "    row.append(idCell);\n",
    "    row.append(usernameCell);\n",
    "    row.append(quizgradeCell);\n",
    "    row.append(attemptCell);\n",
    "    row.append(actionCell);\n",
    "    tbody.append(row);\n",
    "    });\n",
    "\n",
    "**Explanation:** After fetching the quizResults, it's processed by iterating through the list and updating the DOM (displaying the attempts in the table). The quizResults array is processed by iterating over each attempt, creating a new table row for each one, and then displaying the data inside the row.\n",
    "\n",
    "# A Function:\n",
    "\n",
    "    async function loadAttempts() {\n",
    "    }\n",
    "\n",
    "**Explanation:** The function responsible for loading and processing the quiz attempt data is loadAttempts. It fetches data and populates the table with quiz scores and attempts.\n",
    "\n",
    "# Call to Function:\n",
    "\n",
    "    window.onload = () => {\n",
    "    const selectedQuestions = randomizeQuestions(Questions, 5);\n",
    "    buildQuiz(selectedQuestions);\n",
    "    loadAttempts(); \n",
    "    };\n",
    "\n",
    "**Explanation:** The loadAttempts function is called and ensures that the quiz attempts and scores are displayed in the table after "
   ]
  },
  {
   "cell_type": "raw",
   "metadata": {
    "vscode": {
     "languageId": "raw"
    }
   },
   "source": [
    "<script src=\"https://utteranc.es/client.js\"\n",
    "        repo=\"shriyasshah/shriya2025\"\n",
    "        issue-term=\"pathname\"\n",
    "        theme=\"github-light\"\n",
    "        crossorigin=\"anonymous\"\n",
    "        async>\n",
    "</script>"
   ]
  }
 ],
 "metadata": {
  "language_info": {
   "name": "python"
  }
 },
 "nbformat": 4,
 "nbformat_minor": 2
}
