{
 "cells": [
  {
   "cell_type": "raw",
   "metadata": {
    "vscode": {
     "languageId": "raw"
    }
   },
   "source": [
    "---\n",
    "layout: post\n",
    "title: Cyber Security Panel\n",
    "description:  Cyber Security Panel Notes\n",
    "permalink: /CyberSecurityPanel\n",
    "---"
   ]
  },
  {
   "cell_type": "markdown",
   "metadata": {},
   "source": [
    "# Cyber Secuirty notes per speaker: \n",
    "\n",
    "## David Tomasz\n",
    "\n",
    "- Discussed major cybersecurity threats such as ransomware and foreign IP theft (especially from countries like China).\n",
    "\n",
    "- Stressed the importance of learning from skilled peers and maintaining strong connections within the field.\n",
    "\n",
    "- Highlighted the value of professional networking and soft skills, especially leadership — something I also recognize as important, given how often colleges focus on leadership experience.\n",
    "\n",
    "- Pointed out that the traditional 9-to-5 work model is becoming outdated — an idea I’m still considering, but it aligns with the way the tech industry is evolving.\n",
    "\n",
    "\n",
    "## Tricia Mercer\n",
    "\n",
    "- Helped stop data theft and trained soldiers on data security.\n",
    "\n",
    "- Inspired by The Cuckoo’s Egg and enjoys the idea of “catching the bad guys.”\n",
    "\n",
    "**Highlighted the importance of:**\n",
    "\n",
    "- Learning computer science fundamentals\n",
    "\n",
    "- Understanding how to speak the “business language”\n",
    "\n",
    "- Developing skills in phishing defense, which is a more specific niche in the field\n",
    "\n",
    "\n",
    "## Victor Nzeata\n",
    "\n",
    "- Shared his experience preventing military data leaks and investigating a senior executive leaking company secrets.\n",
    "\n",
    "- Stressed the importance of earning an IT degree and specializing, especially in areas like AI security, which is a growing field.\n",
    "\n",
    "- Talked about the risks of weaponized AI and explained zero-day vulnerabilities — flaws in software that attackers exploit before developers are even aware of them.\n"
   ]
  },
  {
   "cell_type": "markdown",
   "metadata": {},
   "source": [
    "# Overall Takeaways (challenges + key points):\n",
    "\n",
    "- Success in cybersecurity relies on a mix of strong technical skills and strong people skills.\n",
    "\n",
    "- Specializing in a specific niche, like healthcare or finance, can open doors to more opportunities and long-term success.\n",
    "\n",
    "- Career paths are available in government, the military, and the private sector.\n",
    "\n",
    "- Leadership, teamwork, adaptability, and clear communication — especially when working with non-technical decision-makers — are essential skills.\n",
    "\n",
    "- Building a strong professional network is crucial, as a lack of connections can limit your growth in the field.\n",
    "\n",
    "- The cybersecurity field is highly competitive, and being able to confidently explain your work to business professionals is an important part of the job.\n",
    "\n",
    "- Staying ahead of constantly evolving security threats is a major challenge. I also learned that vulnerabilities often don’t just come from your own code, but from third-party libraries and external tools — which can create security risks even if your own work is solid."
   ]
  },
  {
   "cell_type": "markdown",
   "metadata": {},
   "source": [
    "# My Reflection: \n",
    "\n",
    "Hearing from the speaker about cybersecurity really opened my eyes to how much the field combines both technical knowledge and strong people skills. I found it especially valuable to learn about the importance of leadership, communication, and networking — skills that are useful in any career, including the medical path I want to follow. I really thought it was cool to hear from Mr. Tomasz as he was and FBI agent; he expressed the importantce of knowing what you are doing in coding as if you dont it is easier to get hacked! This really stood out to me since sometimes as a coder I dont fully understand what I am working on; however his perspective and information helped motivate me to make sure I understand what I do in code and in general. Overall, the talk gave me a new perspective on the role cybersecurity plays across different industries and even at school in our CSP class.\n",
    "\n",
    "# Me and my friends at the panel!\n",
    "\n",
    "\n",
    "<img src=\"{{site.baseurl}}/images/Cyberpanel.png\" width = \"100%\">\n"
   ]
  }
 ],
 "metadata": {
  "kernelspec": {
   "display_name": "venv",
   "language": "python",
   "name": "python3"
  },
  "language_info": {
   "codemirror_mode": {
    "name": "ipython",
    "version": 3
   },
   "file_extension": ".py",
   "mimetype": "text/x-python",
   "name": "python",
   "nbconvert_exporter": "python",
   "pygments_lexer": "ipython3",
   "version": "3.12.7"
  }
 },
 "nbformat": 4,
 "nbformat_minor": 2
}
