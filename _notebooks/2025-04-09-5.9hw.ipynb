{
 "cells": [
  {
   "cell_type": "raw",
   "metadata": {
    "vscode": {
     "languageId": "raw"
    }
   },
   "source": [
    "---\n",
    "layout: post\n",
    "title: 5.9 Homework and popcorn hacks\n",
    "description:  5.9 Homework and popcorn hacks\n",
    "permalink: /5.9homework/\n",
    "---"
   ]
  },
  {
   "cell_type": "code",
   "execution_count": 1,
   "metadata": {},
   "outputs": [
    {
     "name": "stdout",
     "output_type": "stream",
     "text": [
      "Today’s random activity: read a book\n"
     ]
    }
   ],
   "source": [
    "# Popcorn Hack Number 2 (Random): Make a random algorithm to choose a daily activity:\n",
    "import random\n",
    "# Step 1: Define a list of activities\n",
    "activities = ['[play soccer]', 'read a book', 'go for a walk', 'sleep', 'Watch a movie', 'eat food', 'Go for a run', 'Write in a journal', 'Meditate', 'Listen to music', ]\n",
    "# Step 2: Randomly choose an activity\n",
    "random_activity = random.choice(activities)\n",
    "# Step 3: Display the chosen activity\n",
    "print(f\"Today’s random activity: {random_activity}\")"
   ]
  },
  {
   "cell_type": "code",
   "execution_count": 2,
   "metadata": {},
   "outputs": [
    {
     "name": "stdout",
     "output_type": "stream",
     "text": [
      "Hannah will be monitoring snack!\n",
      "Shriya will be monitoring beach!\n",
      "Gaheera will be monitoring code code code!\n"
     ]
    }
   ],
   "source": [
    "# Popcorn Hack Number 3: Using a loops in random\n",
    "# This popcorn hack assigns an activity to each person\n",
    "import random\n",
    "hosts = ['Hannah', 'Shriya', 'Gaheera']\n",
    "activities = ['code code code', 'read', 'snack', 'photo booth', 'beach']\n",
    "# Randomly shuffle the list of activities to assign them randomly to the guests\n",
    "random.shuffle(activities)\n",
    "# Loop through each guest and assign them a random activity\n",
    "for i in range(len(hosts)):\n",
    "    print(f\"{hosts[i]} will be monitoring {activities[i]}!\")"
   ]
  },
  {
   "cell_type": "code",
   "execution_count": 3,
   "metadata": {},
   "outputs": [
    {
     "name": "stdout",
     "output_type": "stream",
     "text": [
      "Spinner Result: 7\n"
     ]
    }
   ],
   "source": [
    "import random\n",
    "\n",
    "def spin_number():\n",
    "    return random.randint(1, 20)\n",
    "\n",
    "spinner_result = spin_number()\n",
    "print(\"Spinner Result:\", spinner_result)"
   ]
  },
  {
   "cell_type": "code",
   "execution_count": 8,
   "metadata": {},
   "outputs": [
    {
     "name": "stdout",
     "output_type": "stream",
     "text": [
      "Computer chose: rock\n",
      "You chose: paper\n",
      "You win!\n"
     ]
    }
   ],
   "source": [
    "import random\n",
    "\n",
    "def play_rock_paper_scissors():\n",
    "    choices = ['rock', 'paper', 'scissors']\n",
    "    computer_choice = random.choice(choices)\n",
    "    user_choice = input(\"Enter your choice (rock, paper, or scissors): \")\n",
    "\n",
    "    if user_choice not in choices:\n",
    "        print(\"Invalid choice. Please try again.\")\n",
    "        return\n",
    "\n",
    "    print(\"Computer chose:\", computer_choice)\n",
    "    print(\"You chose:\", user_choice)\n",
    "\n",
    "    if user_choice == computer_choice:\n",
    "        print(\"It's a tie!\")\n",
    "    elif (user_choice == 'rock' and computer_choice == 'scissors') or \\\n",
    "         (user_choice == 'paper' and computer_choice == 'rock') or \\\n",
    "         (user_choice == 'scissors' and computer_choice == 'paper'):\n",
    "        print(\"You win!\")\n",
    "    else:\n",
    "        print(\"You lose!\")\n",
    "\n",
    "play_rock_paper_scissors()"
   ]
  }
 ],
 "metadata": {
  "kernelspec": {
   "display_name": "venv",
   "language": "python",
   "name": "python3"
  },
  "language_info": {
   "codemirror_mode": {
    "name": "ipython",
    "version": 3
   },
   "file_extension": ".py",
   "mimetype": "text/x-python",
   "name": "python",
   "nbconvert_exporter": "python",
   "pygments_lexer": "ipython3",
   "version": "3.12.7"
  }
 },
 "nbformat": 4,
 "nbformat_minor": 2
}
