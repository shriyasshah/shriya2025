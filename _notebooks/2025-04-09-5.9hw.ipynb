{
 "cells": [
  {
   "cell_type": "raw",
   "metadata": {
    "vscode": {
     "languageId": "raw"
    }
   },
   "source": [
    "---\n",
    "layout: post\n",
    "title: 5.9 Homework and popcorn hacks\n",
    "description:  5.9 Homework and popcorn hacks\n",
    "permalink: /5.9homework/\n",
    "---"
   ]
  },
  {
   "cell_type": "markdown",
   "metadata": {},
   "source": [
    "# Popcorn Hack 1:\n",
    "\n",
    "What do you think a random algorithm is? What would be reason to use random algorithms in real-life coding situations? What kind of questions do you think College Board will ask regarding Random Algorithms?\n",
    "\n",
    "\n",
    "A random algorithm uses random choices or numbers to influence its behavior, so the output can change even with the same input. Programmers use them for things like simulations, games, randomized testing, or choosing samples fairly. On the AP exam, the College Board might ask you to predict possible outcomes, explain the purpose of randomness, or trace code that uses random functions."
   ]
  },
  {
   "cell_type": "code",
   "execution_count": 1,
   "metadata": {},
   "outputs": [
    {
     "name": "stdout",
     "output_type": "stream",
     "text": [
      "Today’s random activity: read a book\n"
     ]
    }
   ],
   "source": [
    "# Popcorn Hack Number 2 (Random): Make a random algorithm to choose a daily activity:\n",
    "import random\n",
    "# Step 1: Define a list of activities\n",
    "activities = ['[play soccer]', 'read a book', 'go for a walk', 'sleep', 'Watch a movie', 'eat food', 'Go for a run', 'Write in a journal', 'Meditate', 'Listen to music', ]\n",
    "# Step 2: Randomly choose an activity\n",
    "random_activity = random.choice(activities)\n",
    "# Step 3: Display the chosen activity\n",
    "print(f\"Today’s random activity: {random_activity}\")"
   ]
  },
  {
   "cell_type": "code",
   "execution_count": 2,
   "metadata": {},
   "outputs": [
    {
     "name": "stdout",
     "output_type": "stream",
     "text": [
      "Hannah will be monitoring snack!\n",
      "Shriya will be monitoring beach!\n",
      "Gaheera will be monitoring code code code!\n"
     ]
    }
   ],
   "source": [
    "# Popcorn Hack Number 3: Using a loops in random\n",
    "# This popcorn hack assigns an activity to each person\n",
    "import random\n",
    "hosts = ['Hannah', 'Shriya', 'Gaheera']\n",
    "activities = ['code code code', 'read', 'snack', 'photo booth', 'beach']\n",
    "# Randomly shuffle the list of activities to assign them randomly to the guests\n",
    "random.shuffle(activities)\n",
    "# Loop through each guest and assign them a random activity\n",
    "for i in range(len(hosts)):\n",
    "    print(f\"{hosts[i]} will be monitoring {activities[i]}!\")"
   ]
  },
  {
   "cell_type": "markdown",
   "metadata": {},
   "source": [
    "# Mc practice = Answer D"
   ]
  },
  {
   "cell_type": "code",
   "execution_count": 3,
   "metadata": {},
   "outputs": [
    {
     "name": "stdout",
     "output_type": "stream",
     "text": [
      "Spinner Result: 7\n"
     ]
    }
   ],
   "source": [
    "import random\n",
    "\n",
    "def spin_number():\n",
    "    return random.randint(1, 20)\n",
    "\n",
    "spinner_result = spin_number()\n",
    "print(\"Spinner Result:\", spinner_result)"
   ]
  },
  {
   "cell_type": "code",
   "execution_count": 8,
   "metadata": {},
   "outputs": [
    {
     "name": "stdout",
     "output_type": "stream",
     "text": [
      "Computer chose: rock\n",
      "You chose: paper\n",
      "You win!\n"
     ]
    }
   ],
   "source": [
    "import random\n",
    "\n",
    "def play_rock_paper_scissors():\n",
    "    choices = ['rock', 'paper', 'scissors']\n",
    "    computer_choice = random.choice(choices)\n",
    "    user_choice = input(\"Enter your choice (rock, paper, or scissors): \")\n",
    "\n",
    "    if user_choice not in choices:\n",
    "        print(\"Invalid choice. Please try again.\")\n",
    "        return\n",
    "\n",
    "    print(\"Computer chose:\", computer_choice)\n",
    "    print(\"You chose:\", user_choice)\n",
    "\n",
    "    if user_choice == computer_choice:\n",
    "        print(\"It's a tie!\")\n",
    "    elif (user_choice == 'rock' and computer_choice == 'scissors') or \\\n",
    "         (user_choice == 'paper' and computer_choice == 'rock') or \\\n",
    "         (user_choice == 'scissors' and computer_choice == 'paper'):\n",
    "        print(\"You win!\")\n",
    "    else:\n",
    "        print(\"You lose!\")\n",
    "\n",
    "play_rock_paper_scissors()"
   ]
  },
  {
   "cell_type": "markdown",
   "metadata": {},
   "source": [
    "# Mc Question = Answer is C and then other one is D"
   ]
  },
  {
   "cell_type": "markdown",
   "metadata": {},
   "source": [
    "# Homework"
   ]
  },
  {
   "cell_type": "code",
   "execution_count": 1,
   "metadata": {},
   "outputs": [
    {
     "name": "stdout",
     "output_type": "stream",
     "text": [
      "\n",
      "Team Phoenix:\n",
      " - Diana\n",
      " - Lily\n",
      " - Abby\n",
      " - Nina\n",
      " - Michael\n",
      "\n",
      "Team Kraken:\n",
      " - Charlie\n",
      " - Ben\n",
      " - Shriya\n",
      " - Kevin\n",
      " - Oscar\n",
      "\n",
      "Team Dragon:\n",
      " - Ethan\n",
      " - Hannah\n",
      " - Gaheera\n",
      " - Soumini\n",
      " - Risha\n"
     ]
    }
   ],
   "source": [
    "import random\n",
    "\n",
    "# List of 15 students\n",
    "students = [\n",
    "    \"Soumini\", \"Ben\", \"Charlie\", \"Diana\", \"Ethan\",\n",
    "    \"Risha\", \"Shriya\", \"Hannah\", \"Gaheera\", \"Abby\",\n",
    "    \"Kevin\", \"Lily\", \"Michael\", \"Nina\", \"Oscar\"\n",
    "]\n",
    "\n",
    "# Creative team names\n",
    "teams = {\n",
    "    \"Team Phoenix\": [],\n",
    "    \"Team Kraken\": [],\n",
    "    \"Team Dragon\": []\n",
    "}\n",
    "\n",
    "# Shuffle students for random distribution\n",
    "random.shuffle(students)\n",
    "\n",
    "# Assign students to teams in round-robin fashion\n",
    "team_names = list(teams.keys())\n",
    "\n",
    "for i, student in enumerate(students):\n",
    "    team = team_names[i % len(team_names)]  # Cycle through team names\n",
    "    teams[team].append(student)\n",
    "\n",
    "# Print the team assignments\n",
    "for team, members in teams.items():\n",
    "    print(f\"\\n{team}:\")\n",
    "    for member in members:\n",
    "        print(f\" - {member}\")\n"
   ]
  },
  {
   "cell_type": "markdown",
   "metadata": {},
   "source": [
    "# Homework 2"
   ]
  },
  {
   "cell_type": "code",
   "execution_count": 2,
   "metadata": {},
   "outputs": [
    {
     "name": "stdout",
     "output_type": "stream",
     "text": [
      "7-Day Weather Forecast:\n",
      "\n",
      "Day 1: Cloudy\n",
      "Day 2: Sunny\n",
      "Day 3: Rainy\n",
      "Day 4: Rainy\n",
      "Day 5: Rainy\n",
      "Day 6: Sunny\n",
      "Day 7: Rainy\n"
     ]
    }
   ],
   "source": [
    "import random\n",
    "\n",
    "# Possible weather conditions\n",
    "weather_types = [\"Sunny\", \"Cloudy\", \"Rainy\"]\n",
    "\n",
    "# Generate and print a random weather forecast for 7 days\n",
    "print(\"7-Day Weather Forecast:\\n\")\n",
    "for day in range(1, 8):\n",
    "    weather = random.choice(weather_types)\n",
    "    print(f\"Day {day}: {weather}\")"
   ]
  },
  {
   "cell_type": "markdown",
   "metadata": {},
   "source": [
    "# Homework 3"
   ]
  },
  {
   "cell_type": "code",
   "execution_count": 3,
   "metadata": {},
   "outputs": [
    {
     "name": "stdout",
     "output_type": "stream",
     "text": [
      "Customer 1 will take 4 minute(s) to be served.\n",
      "Customer 2 will take 3 minute(s) to be served.\n",
      "Customer 3 will take 3 minute(s) to be served.\n",
      "Customer 4 will take 5 minute(s) to be served.\n",
      "Customer 5 will take 5 minute(s) to be served.\n",
      "\n",
      "Total time to serve all 5 customers: 20 minute(s)\n"
     ]
    }
   ],
   "source": [
    "import random\n",
    "\n",
    "# Simulate 5 customers\n",
    "num_customers = 5\n",
    "service_times = []\n",
    "\n",
    "# Generate random service times (1 to 5 minutes) for each customer\n",
    "for i in range(1, num_customers + 1):\n",
    "    time = random.randint(1, 5)\n",
    "    service_times.append(time)\n",
    "    print(f\"Customer {i} will take {time} minute(s) to be served.\")\n",
    "\n",
    "# Calculate total service time\n",
    "total_time = sum(service_times)\n",
    "\n",
    "print(f\"\\nTotal time to serve all {num_customers} customers: {total_time} minute(s)\")"
   ]
  }
 ],
 "metadata": {
  "kernelspec": {
   "display_name": "venv",
   "language": "python",
   "name": "python3"
  },
  "language_info": {
   "codemirror_mode": {
    "name": "ipython",
    "version": 3
   },
   "file_extension": ".py",
   "mimetype": "text/x-python",
   "name": "python",
   "nbconvert_exporter": "python",
   "pygments_lexer": "ipython3",
   "version": "3.12.7"
  }
 },
 "nbformat": 4,
 "nbformat_minor": 2
}
