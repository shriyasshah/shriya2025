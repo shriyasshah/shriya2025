{
 "cells": [
  {
   "cell_type": "raw",
   "metadata": {
    "vscode": {
     "languageId": "raw"
    }
   },
   "source": [
    "---\n",
    "layout: post\n",
    "title: Burndown blog\n",
    "description: Function of models and how I applied them in my project (quick overview)\n",
    "---"
   ]
  },
  {
   "cell_type": "markdown",
   "metadata": {},
   "source": [
    "# Burndown Lists\n",
    "\n",
    "As someone who is a big fan of to-do lists I found burndown lists to be extremely helpful in CSP to keep me on track! \n",
    "Here is a link to my issue of my burn down list: \n",
    "\n",
    "LINK: [BURNDOWN LIST](https://github.com/Voyager162/binaryFrontend/issues/11)\n",
    "\n",
    "\n",
    "\n",
    "\n",
    "\n",
    "\n"
   ]
  }
 ],
 "metadata": {
  "language_info": {
   "name": "python"
  }
 },
 "nbformat": 4,
 "nbformat_minor": 2
}
