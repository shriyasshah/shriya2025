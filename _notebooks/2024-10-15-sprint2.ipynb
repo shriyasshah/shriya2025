{
 "cells": [
  {
   "cell_type": "raw",
   "metadata": {
    "vscode": {
     "languageId": "raw"
    }
   },
   "source": [
    "---\n",
    "layout: post\n",
    "title: Sprint 2 Reflection\n",
    "description: Overview of my Sprint 2 Journey\n",
    "---"
   ]
  },
  {
   "cell_type": "markdown",
   "metadata": {},
   "source": [
    "# Sprint 2 Journey \n",
    "To start off after we created our teams; we worked together to create our lessons in our groups. My group was incharge of 3.6 and 3.7. Since I was unfamiliar to this topic before, I watctched the AP classroom videos to learn it. Then I created my part of the assingment which taught using exmaples and flow charts. Along with doing my lesson I also completed the homework for each team that taught a topic in Unit 3. Overall this was a good expiernece and I felt like I learnt along from each lesson. \n",
    "\n",
    "Here is a link to my issue for Sprint 2: https://github.com/shriyasshah/shriya2025/issues/4"
   ]
  }
 ],
 "metadata": {
  "language_info": {
   "name": "python"
  }
 },
 "nbformat": 4,
 "nbformat_minor": 2
}
