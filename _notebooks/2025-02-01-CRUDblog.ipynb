{
 "cells": [
  {
   "cell_type": "raw",
   "metadata": {
    "vscode": {
     "languageId": "raw"
    }
   },
   "source": [
    "---\n",
    "layout: post\n",
    "title: CRUD blog\n",
    "description: What is CRUD, why its important, and how I used it\n",
    "---"
   ]
  },
  {
   "cell_type": "markdown",
   "metadata": {},
   "source": [
    "# CRUD\n",
    "\n",
    "In this class I worked to create a Binary Quiz that met full CRUD fucntionality. In realation to my quiz this meant that a quiz score and attempt could create, read, uptate, and delete. \n",
    "\n",
    "CRUD functionality on my feature: [LINK to quiz](https://voyager162.github.io/binaryFrontend/quiz)"
   ]
  },
  {
   "cell_type": "raw",
   "metadata": {
    "vscode": {
     "languageId": "raw"
    }
   },
   "source": [
    "class _CRUD(Resource):\n",
    "\n",
    "        def post(self):\n",
    "            \"\"\"\n",
    "            Create a new group.\n",
    "            \"\"\"\n",
    "            # current_user = g.current_user\n",
    "            # Obtain the request data sent by the RESTful client API\n",
    "            data = request.get_json()\n",
    "            # Create a new group object using the data from the request\n",
    "            chat = quizgrading(data['quizgrade'], data['attempt'], data['id'], data['username'])\n",
    "            # Save the chat object using the Object Relational Mapper (ORM) method defined in the model\n",
    "            chat.create()\n",
    "            # Return response to the client in JSON format, converting Python dictionaries to JSON format\n",
    "            return jsonify(chat.read())\n",
    "        \n",
    "        def get(self):\n",
    "            chats = quizgrading.query.all()\n",
    "            allChats = []\n",
    "            for i in range(len(chats)):\n",
    "                allChats.append(chats[i].read())\n",
    "\n",
    "            # Return a JSON restful response to the client\n",
    "            return jsonify(allChats)\n",
    "\n",
    "        def put(self):\n",
    "            # Obtain the current user\n",
    "            # Obtain the request data\n",
    "            data = request.get_json()\n",
    "            # Find the current post from the database table(s)\n",
    "            post = quizgrading.query.get(data['id'])\n",
    "            # Update the post\n",
    "            post._quizgrade = data['quizgrade']\n",
    "            post._attempt = data['attempt']\n",
    "            post._user_id = data['user_id']\n",
    "            post._username = data['username']\n",
    "            # Save the post\n",
    "            post.update()\n",
    "            # Return response\n",
    "            return jsonify(post.read())\n",
    "\n",
    "        def delete(self):\n",
    "            # Obtain the request data\n",
    "            data = request.get_json()\n",
    "            # Find the current post from the database table(s)\n",
    "            post = quizgrading.query.get(data['id'])\n",
    "            # Delete the post using the ORM method defined in the model\n",
    "            post.delete()\n",
    "            # Return response\n",
    "            return jsonify({\"message\": \"Post deleted\"})"
   ]
  }
 ],
 "metadata": {
  "language_info": {
   "name": "python"
  }
 },
 "nbformat": 4,
 "nbformat_minor": 2
}
