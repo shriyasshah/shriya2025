{
 "cells": [
  {
   "cell_type": "markdown",
   "metadata": {},
   "source": [
    "---\n",
    "layout: post\n",
    "title: 5.3 Homework and popcorn hacks\n",
    "description:  5.3 Homework and popcorn hacks\n",
    "permalink: /5.3homework/\n",
    "---"
   ]
  },
  {
   "cell_type": "markdown",
   "metadata": {},
   "source": [
    "Legal and Ethical Concerns: team teach 5\n",
    "\n",
    "# Notes\n",
    "\n",
    "- understand flash cards - create a table for it \n",
    "\n",
    "# Popcorn hack 1: what are some ways to protect intellectual property? Write doesn what you can remeber in a notebook.\n",
    "    - patents, private domain, copyright, licseing  \n",
    "\n",
    "# Mc question = answer b \n",
    "\n",
    "# popcorn hack: define a MIT license and what would one for my own repo look like \n",
    "    - liscense for code that allows other peole to use, modifyt, merge, copyu, and publish code.\n",
    "\n",
    "# Popcorn hack: define a creative common license, whaty are the exceptions to the copyright law\n",
    "    - a public copyright liscence used vby cretors to give others the right to use their work. \n",
    "\n",
    "# Name as many ways as you can rmeer to prevent copyright - With Abby\n",
    "    - checking copyright licsecse, cite any srouces, Creative Commons lisence.\n",
    "\n",
    "# Homework hack \n",
    "\n",
    "Description: \n",
    "\n",
    "Link to personal repo lisence: \n",
    "\n",
    "**Extra Credit**\n",
    "\n",
    "Define project: Create an engaging, interactive game using JavaScript that educates Illumina's social media followers about their cutting-edge biotech innovations. The aim is to increase follower engagement by 30% within three months, with example solutions including a virtual lab simulation where users can explore DNA sequencing processes, a trivia challenge on genetic research breakthroughs, or a puzzle game that illustrates the impact of personalized medicine. \n",
    "\n",
    "Link to pilot city MIT lisence: https://github.com/blackstar3092/illumina_pc_frontend/blob/main/LICENSE\n"
   ]
  }
 ],
 "metadata": {
  "language_info": {
   "name": "python"
  }
 },
 "nbformat": 4,
 "nbformat_minor": 2
}
