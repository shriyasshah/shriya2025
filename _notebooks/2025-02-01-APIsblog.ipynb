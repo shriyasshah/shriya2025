{
 "cells": [
  {
   "cell_type": "raw",
   "metadata": {
    "vscode": {
     "languageId": "raw"
    }
   },
   "source": [
    "---\n",
    "layout: post\n",
    "title: APIs blog\n",
    "description: Function of API's and how I applied them in my project (quick overview)\n",
    "---"
   ]
  },
  {
   "cell_type": "markdown",
   "metadata": {},
   "source": [
    "# APIs\n",
    "\n",
    "I learnt how they implement CRUD functionalty and take the data from the user to then store it in the data base. This works by fetching the data creates like from my quiz score and attempt and then fecthing this data to then store it in the database."
   ]
  },
  {
   "cell_type": "raw",
   "metadata": {
    "vscode": {
     "languageId": "raw"
    }
   },
   "source": [
    "\n",
    "    quizgrading_api = Blueprint('quizgrading_api', __name__, url_prefix='/api')\n",
    "\n",
    "    api = Api(quizgrading_api)\n",
    "\n",
    "    class GroupAPI:\n",
    "        \"\"\"\n",
    "        The API CRUD endpoints correspond to common HTTP methods:\n",
    "        - post: create a new group\n",
    "        - get: read groups\n",
    "        - put: update a group\n",
    "        - delete: delete a group\n",
    "        \"\"\"\n",
    "        class _CRUD(Resource):\n",
    "\n",
    "        def post(self):\n",
    "            \"\"\"\n",
    "            Create a new group.\n",
    "            \"\"\"\n",
    "            # current_user = g.current_user\n",
    "            # Obtain the request data sent by the RESTful client API\n",
    "            data = request.get_json()\n",
    "            # Create a new group object using the data from the request\n",
    "            chat = quizgrading(data['quizgrade'], data['attempt'], data['id'], data['username'])\n",
    "            # Save the chat object using the Object Relational Mapper (ORM) method defined in the model\n",
    "            chat.create()\n",
    "            # Return response to the client in JSON format, converting Python dictionaries to JSON format\n",
    "            return jsonify(chat.read())\n",
    "        \n",
    "        def get(self):\n",
    "            chats = quizgrading.query.all()\n",
    "            allChats = []\n",
    "            for i in range(len(chats)):\n",
    "                allChats.append(chats[i].read())\n",
    "\n",
    "            # Return a JSON restful response to the client\n",
    "            return jsonify(allChats)\n",
    "\n",
    "        def put(self):\n",
    "            # Obtain the current user\n",
    "            # Obtain the request data\n",
    "            data = request.get_json()\n",
    "            # Find the current post from the database table(s)\n",
    "            post = quizgrading.query.get(data['id'])\n",
    "            # Update the post\n",
    "            post._quizgrade = data['quizgrade']\n",
    "            post._attempt = data['attempt']\n",
    "            post._user_id = data['user_id']\n",
    "            post._username = data['username']\n",
    "            # Save the post\n",
    "            post.update()\n",
    "            # Return response\n",
    "            return jsonify(post.read())\n",
    "\n",
    "        def delete(self):\n",
    "            # Obtain the request data\n",
    "            data = request.get_json()\n",
    "            # Find the current post from the database table(s)\n",
    "            post = quizgrading.query.get(data['id'])\n",
    "            # Delete the post using the ORM method defined in the model\n",
    "            post.delete()\n",
    "            # Return response\n",
    "            return jsonify({\"message\": \"Post deleted\"})\n",
    "\n",
    "    \"\"\"\n",
    "    Map the _CRUD class to the API endpoints for /post.\n",
    "    - The API resource class inherits from flask_restful.Resource.\n",
    "    - The _CRUD class defines the HTTP methods for the API.\n",
    "    \"\"\"\n",
    "        \n",
    "    api.add_resource(_CRUD, '/quizgrading')\n",
    "    \n",
    "    if __name__ == '__main__':\n",
    "    app.run(debug=True)"
   ]
  }
 ],
 "metadata": {
  "language_info": {
   "name": "python"
  }
 },
 "nbformat": 4,
 "nbformat_minor": 2
}
