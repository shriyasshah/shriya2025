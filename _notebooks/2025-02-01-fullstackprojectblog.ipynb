{
 "cells": [
  {
   "cell_type": "raw",
   "metadata": {
    "vscode": {
     "languageId": "raw"
    }
   },
   "source": [
    "---\n",
    "layout: post\n",
    "title: Full Stack blog\n",
    "description: Function of my feauture and how I created it\n",
    "---"
   ]
  },
  {
   "cell_type": "markdown",
   "metadata": {},
   "source": [
    "# Purpose of Binary Quiz\n",
    "The feature of the Binary Quiz and our website in general is to give studends a fun and interactive way to aid their learning next trimester and as prep for the AP exman for learning Binary.\n",
    "\n",
    "# Binary Quiz Project Feature\n",
    "\n",
    "- User input: The program recevies data once the user submits a quiz attempts. THe table below the quiz reflects the now stored scores and times attempted \n",
    "\n",
    "- Data storage: The feature uses a database or data table to retain all quiz attempts and scores\n",
    "\n",
    "- Data modification: The user can update or delete scores an attempt number/time; demonstratinng full CRUD functionality\n",
    "\n",
    "-  Data Accessibility: The program displays the stored quiz scores and attempts; allowing other users to view the data. \n",
    "\n",
    "# How it works\n",
    "\n",
    "1) the user intracts with the feature by navigating to the icon for thr binary quiz.\n",
    "\n",
    "2) Through quiz submissions the program exectues \n",
    "\n",
    "# N@M\n",
    " I really enjoyed seeing what other people were working on, and it gave me an understanding and passion for really wanting to further apply myself in this class. I loved being able to display my work to parents and students. \n",
    "\n",
    " At N@M I lured people to come view our work and brought freinds and family into the room! I stood with my team as we explained our prupose and what each of us worked on to create a group webstie/project. \n",
    "\n",
    " Here are some pictures I took of other studetns work: \n",
    "\n",
    "\n",
    "\n",
    "\n",
    "\n",
    " # For our own project we recived some feedback: \n",
    "\n",
    " Pros: \n",
    " - \n",
    " - \n",
    " - \n",
    "\n",
    " Cons:\n",
    "- \n",
    "- \n",
    "- \n",
    " \n",
    "\n",
    "\n"
   ]
  }
 ],
 "metadata": {
  "language_info": {
   "name": "python"
  }
 },
 "nbformat": 4,
 "nbformat_minor": 2
}
