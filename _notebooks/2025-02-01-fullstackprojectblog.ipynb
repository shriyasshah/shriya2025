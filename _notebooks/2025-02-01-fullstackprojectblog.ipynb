{
 "cells": [
  {
   "cell_type": "raw",
   "metadata": {
    "vscode": {
     "languageId": "raw"
    }
   },
   "source": [
    "---\n",
    "layout: post\n",
    "title: Full Stack blog\n",
    "description: Function of my feauture and how I created it\n",
    "---"
   ]
  },
  {
   "cell_type": "markdown",
   "metadata": {},
   "source": [
    "# Purpose of Binary Quiz\n",
    "The feature of the Binary Quiz and our website in general is to give studends a fun and interactive way to aid their learning next trimester and as prep for the AP exman for learning Binary. \n",
    "\n",
    "Here is a link to our deployed site: [Binary Quiz deplolyed site](https://voyager162.github.io/binaryFrontend/quiz)\n",
    "\n",
    "Here is a link to my burn down list: [BURNDOWN LIST](https://github.com/Voyager162/binaryFrontend/issues/11)\n",
    "\n",
    "# Binary Quiz Project Feature\n",
    "\n",
    "- User input: The program recevies data once the user submits a quiz attempts. THe table below the quiz reflects the now stored scores and times attempted \n",
    "\n",
    "- Data storage: The feature uses a database or data table to retain all quiz attempts and scores\n",
    "\n",
    "- Data modification: The user can update or delete scores an attempt number/time; demonstratinng full CRUD functionality\n",
    "\n",
    "-  Data Accessibility: The program displays the stored quiz scores and attempts; allowing other users to view the data. \n",
    "\n",
    "# CPT requirements \n",
    "\n",
    "| Requirement                | Notification Feature                                      |\n",
    "|----------------------------|----------------------------------------------------------|\n",
    "| Input                      | Triggered by user actions like submiting the quiz  |\n",
    "| Use of List/Collection Type | Stored in an SQLite database with user links.          |\n",
    "| Procedure                  | Quiz attempt is made, linked to users, and saved.       |\n",
    "| Algorithm                  | Quiz submissions are made, attempt and score is added for a user.       |\n",
    "| Output                     | users see quiz attempt and scores with details.               |\n",
    "| Functionality Demonstration | User action creates a quiz attempt and score, which appear on the site. |\n",
    "\n",
    "# How it works\n",
    "\n",
    "1) The user intracts with the feature by navigating to the icon for thr binary quiz.\n",
    "\n",
    "2) Then the data is stored in an SQLite database \n",
    "\n",
    "3) Scores and attempts linked to users are made and saved\n",
    "\n",
    "4) Score and attempt is now added for a user\n",
    "\n",
    "5) User sees an output of their saved score and attempt in a history and trials table and has the ability to edit and delete\n",
    "\n",
    "# N@M\n",
    " I really enjoyed seeing what other people were working on, and it gave me an understanding and passion for really wanting to further apply myself in this class. I loved being able to display my work to parents and students. \n",
    "\n",
    " At N@M I lured people to come view our work and brought friends and family into the room! I stood with my team as we explained our prupose and what each of us worked on to create a group webstie/project. \n",
    "\n",
    " Here are some pictures I took of other students work: \n",
    "\n",
    "<img src=\"{{site.baseurl}}/images/ALEXGROUP.png\" width = \"300\"  height = \"300\"/>\n",
    "<img src=\"{{site.baseurl}}/images/KUSHIGROUP.png\" width = \"300\"  height = \"300\"/>\n",
    "<img src=\"{{site.baseurl}}/images/CALENDAR.png\" width = \"300\"  height = \"300\"/>\n",
    "<img src=\"{{site.baseurl}}/images/COOLGAMEPRISON.png\" width = \"300\"  height = \"300\"/>\n",
    "\n",
    "Out of all the groups I really liked the last picutre shown! The presenter was really interactive and I could tell he was passionate about his work and proud of it!\n",
    "\n",
    " # For our own project we recived some feedback: \n",
    "\n",
    " Pros: \n",
    " - \"Made each page and feature flow cohesively\"\n",
    " - \"Very nice variety of games to learn binary\"\n",
    " - \"The UI is really pretty and the game is super fun\"\n",
    "\n",
    " Cons:\n",
    "- \"Page is a little bland, add some more frontend pizzaz\"\n",
    "- \"Only thing I can think of is complicating the styling, like have a more dynamic design to make it more appealing to the user. Like on the game where you translate a hexadecimal number into a bit, it is not just red and blue dots, but images or icons or something. Maybe make the game like.a board game, where there are different paths and possible challenge questions that have risk involved.\"\n",
    "- \"i feel like you could make it more engaging with more features pictures or buttons on the home page\"\n",
    " \n",
    "\n",
    "\n"
   ]
  }
 ],
 "metadata": {
  "language_info": {
   "name": "python"
  }
 },
 "nbformat": 4,
 "nbformat_minor": 2
}
