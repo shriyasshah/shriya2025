{
 "cells": [
  {
   "cell_type": "raw",
   "metadata": {
    "vscode": {
     "languageId": "raw"
    }
   },
   "source": [
    "---\n",
    "layout: post\n",
    "title: Trimester 2 Final Reflection\n",
    "description: What I have learned this trimester and how it has helped me grow as a student!\n",
    "permalink: /trimester-2-final-reflection/\n",
    "---"
   ]
  },
  {
   "cell_type": "markdown",
   "metadata": {},
   "source": [
    "# The 5 things I have accompplished over 12 weeks\n",
    "Links to blogs: \n",
    "\n",
    "1) Burndown : [link](http://127.0.0.1:4100/shriya2025/2025/02/01/apiblog_IPYNB_2_.html)\n",
    "\n",
    "2) APIs: [link](http://127.0.0.1:4100/shriya2025/2025/02/01/APIsblog_IPYNB_2_.html)\n",
    "\n",
    "3) CRUD functionality: [link](http://127.0.0.1:4100/shriya2025/2025/02/01/CRUDblog_IPYNB_2_.html)\n",
    "\n",
    "4) Importance of collaboration within a team: [link](http://127.0.0.1:4100/shriya2025/2025/02/01/communication_IPYNB_2_.html) \n",
    "\n",
    "5) Deployment and key factors: [link](http://127.0.0.1:4100/shriya2025/2025/02/01/deploymentblog_IPYNB_2_.html)\n",
    "\n",
    "# Full stack feature demo and learnings + N@M feedback\n",
    "\n",
    "Link to blog for full stack demo/learnings: [FULL STACK BLOG](http://127.0.0.1:4100/shriya2025/2025/02/01/fullstackprojectblog_IPYNB_2_.html)\n",
    "\n",
    "# MCQ learnings and corrections\n",
    "\n",
    "Link to MCQ review: [MCQ BLOG](http://127.0.0.1:4100/shriya2025/2025/02/01/MCQ2blog_IPYNB_2_.html)\n",
    "\n",
    "# Retrospective and Selfgrade\n",
    "\n",
    "Link to blog: [RETROSPECTIVE AND GRADE BLOG](http://127.0.0.1:4100/shriya2025/2025/02/01/retrospective_IPYNB_2_.html)\n",
    "\n",
    "\n",
    "\n",
    "\n",
    "\n"
   ]
  }
 ],
 "metadata": {
  "language_info": {
   "name": "python"
  }
 },
 "nbformat": 4,
 "nbformat_minor": 2
}
