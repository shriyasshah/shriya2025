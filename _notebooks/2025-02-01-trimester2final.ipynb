{
 "cells": [
  {
   "cell_type": "raw",
   "metadata": {
    "vscode": {
     "languageId": "raw"
    }
   },
   "source": [
    "---\n",
    "layout: post\n",
    "title: Trimester 2 Final Reflection\n",
    "description: What I have learned this trimester and how it has helped me grow as a student!\n",
    "---"
   ]
  },
  {
   "cell_type": "markdown",
   "metadata": {},
   "source": [
    "# The 5 things I have accompplished over 12 weeks\n",
    "Links to blogs: \n",
    "\n",
    "1) Models: \n",
    "2) API: \n",
    "3) CRUD functionality: \n",
    "4) Importance of collaboration within a team: \n",
    "5) Deployment and key factors:  \n",
    "\n",
    "# Full stack feature demo and learnings + N@M feedback\n",
    "\n",
    "Link to blog for full stack demo/learnings: \n",
    "\n",
    "# MCQ learnings and corrections\n",
    "\n",
    "Link to MCQ progress: \n",
    "\n",
    "\n",
    "\n",
    "\n",
    "\n",
    "\n"
   ]
  }
 ],
 "metadata": {
  "language_info": {
   "name": "python"
  }
 },
 "nbformat": 4,
 "nbformat_minor": 2
}
