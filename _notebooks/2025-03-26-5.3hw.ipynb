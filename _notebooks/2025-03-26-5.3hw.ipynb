{
 "cells": [
  {
   "cell_type": "raw",
   "metadata": {
    "vscode": {
     "languageId": "raw"
    }
   },
   "source": [
    "---\n",
    "layout: post\n",
    "title: 5.3 Homework and popcorn hacks\n",
    "description:  5.3 Homework and popcorn hacks\n",
    "permalink: /5.3homework/\n",
    "---"
   ]
  },
  {
   "cell_type": "markdown",
   "metadata": {},
   "source": [
    "# CSP team teach 3 notes \n",
    "\n",
    "- computer bias = unfair prefercnes built into a computer system \n",
    "    - Data issues  \n",
    "    - Design choices\n",
    "    - Testing gaps\n",
    "- Humans are behind every tech tool so our biases can show up in the algroithms we create without intent \n",
    "\n",
    "# Popcorn Hack 1: provide and example of a movie, TV show, video games, or software that demonstrate bias and specify who is affected by it. Explain a potential cause of this bias. \n",
    "\n",
    "One example of a movie that can portay this is the movie \"Aladdin\" (1992, animated version) and its depiction of Middle Eastern culture. The people who are mainly affected is the Middle Eastern cmmunity as it protrays the western view of their culture. A major cause of this bias is Western Orientalism. This can show  in Western media to depict Middle Eastern cultures as mysterious, backward, or violent. The film's creators likely relied on outdated tropes and lacked authentic cultural representation in the production team, leading to the reinforcement of stereotypes.\n",
    "\n",
    "# Popcorn Hack 2: THink about a time when you felt a technology didn’t work well for you. What was the issue, and how did it make you feel? Write a short paragraphj describing the expierence and suggest one way the technology could be improved to be more exlusive. \n",
    "\n",
    "One time where a technology didnt work well for me was when I used facial recgonistion and fingerprint recognition on my phone. The issue was that everytime I washed or srubbed my hands or went to the pool my phone would have a hard time recongizing my finger since the skin can peel or wrinke. regarding the facial recongition, this was exteremly hard during covid-19 times because my phone couldnt recognize me with my mask on. One way that this tecnology can be improved is to better recgognise me through my eyes and be able to detect my finger even with the cuts and scraps by detecting other parts of the print. \n",
    "\n",
    "# Popcorn Hack 3: Image your desinging a fitness tecking pp, How could bias sneak into your apps recommendations or prefromace evaluations? THink about users with different physical abilities, ages, or health conditions. What feautres could you add to ensure the app is fair and inclusive for all users? \n",
    "\n",
    "Bias could sneak into a fitness tracking app if it assumes all users have the same physical abilities, fitness levels, or health conditions. For example, an app that only tracks steps may exclude users who use wheelchairs or have mobility limitations. It could offer customizable goals and alternative progress tracking, such as strength improvements or heart rate trends, to make the app more inclusive. Additionally, providing accessibility features like guided audio workouts or modified exercises would ensure all users can engage with the app effectively.\n",
    "\n",
    "# Homework Hack #1: \n",
    "I use Instagram regularly, and I’ve noticed that its algorithm tends to prioritize popular posts and accounts, making it harder for smaller creators to gain visibility. This bias can be seen in the way certain body types, beauty standards, or lifestyles are more frequently promoted on the Explore page. The cause of this bias likely comes from Instagram’s engagement-based algorithm, which favors content that already has high likes and shares, reinforcing trends rather than diversity. To make the platform more inclusive, Instagram could adjust its algorithm to give more exposure to diverse creators and content, ensuring a wider range of voices and perspectives are seen.\n"
   ]
  }
 ],
 "metadata": {
  "language_info": {
   "name": "python"
  }
 },
 "nbformat": 4,
 "nbformat_minor": 2
}
