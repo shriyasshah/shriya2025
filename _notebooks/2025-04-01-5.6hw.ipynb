{
 "cells": [
  {
   "cell_type": "raw",
   "metadata": {
    "vscode": {
     "languageId": "raw"
    }
   },
   "source": [
    "---\n",
    "layout: post\n",
    "title: 5.6 Homework and popcorn hacks\n",
    "description:  5.6 Homework and popcorn hacks\n",
    "permalink: /5.6homework/\n",
    "---"
   ]
  },
  {
   "cell_type": "markdown",
   "metadata": {},
   "source": [
    "# popcorn hacks:\n",
    "\n",
    "identify pii = A (fingerprint)\n",
    "  \n",
    "not MFA = a and d\n",
    "\n",
    "Encryption quiz = b\n",
    "\n",
    "Password security = what makes a password secure \n",
    "\n",
    "It would take a computer 6 thousand years to guess my password!"
   ]
  }
 ],
 "metadata": {
  "language_info": {
   "name": "python"
  }
 },
 "nbformat": 4,
 "nbformat_minor": 2
}
