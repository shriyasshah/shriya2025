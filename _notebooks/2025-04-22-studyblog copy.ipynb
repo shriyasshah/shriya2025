{
 "cells": [
  {
   "cell_type": "raw",
   "metadata": {
    "vscode": {
     "languageId": "raw"
    }
   },
   "source": [
    "---\n",
    "layout: post\n",
    "title: Study Plan/Guide\n",
    "description: Study blog with tips and ways to study for the AP Exam\n",
    "permalink: /studyblog\n",
    "---"
   ]
  },
  {
   "cell_type": "markdown",
   "metadata": {},
   "source": [
    "# MC practice \n",
    "\n",
    "Link to college board for 2018, 2020, and 2021 AP MC: [HERE](https://apclassroom.collegeboard.org/103/home)\n",
    "\n",
    "MC 2021 score: 59/70\n",
    "\n",
    "## Reflection Blogs: \n",
    "\n",
    "- [2020](https://shriyasshah.github.io/shriya2025/2024/11/19/APexam_IPYNB_2_.html)\n",
    "\n",
    "- [2018](https://shriyasshah.github.io/shriya2025/2025/02/01/MCQ2blog_IPYNB_2_.html)\n",
    "\n",
    "\n",
    "# AP Exam Prep Book\n",
    "\n",
    "<img src=\"{{site.baseurl}}/images/prep.png\" width = \"100%\">\n",
    "\n",
    "# Team Teach Blogs + Notes\n",
    "\n",
    "- [Benificial & Harmful](https://shriyasshah.github.io/shriya2025/5.1homework/)\n",
    "\n",
    "- [Digital Divide](https://shriyasshah.github.io/shriya2025/digitaldividehw/)\n",
    "\n",
    "- [Computing Bias](https://shriyasshah.github.io/shriya2025/5.3homework/)\n",
    "\n",
    "- [Crowdsourcing](https://shriyasshah.github.io/shriya2025/5.4homework/)\n",
    "\n",
    "- [Legal & Ethical Concerns](https://shriyasshah.github.io/shriya2025/5.5homework/)\n",
    "\n",
    "- [Safe Computing](https://shriyasshah.github.io/shriya2025/safecomputing/)\n",
    "\n",
    "- [Binary Search Algorithim](https://shriyasshah.github.io/shriya2025/5.7homework/)\n",
    "\n",
    "- [Lists & Filtering Algorithims](https://shriyasshah.github.io/shriya2025/5.8homework/)\n",
    "\n",
    "- [Random Algorithims](https://shriyasshah.github.io/shriya2025/5.9homework/)\n",
    "\n",
    "- [Big O & Algorithim Efficency](https://shriyasshah.github.io/shriya2025/bigOAEhomework)"
   ]
  },
  {
   "cell_type": "markdown",
   "metadata": {},
   "source": [
    "# Study Plan\n",
    "\n",
    "**Week of April 21st**: AP CSP Course Prep book reading to unit 8 to familiarize and practice topics in areas of weakness\n",
    "\n",
    "**Weekend of April 26th**: take practice mc to go over topics that need review\n",
    "\n",
    "**Week of April 28th**: Review any incorrect questions from MCQ practice from book, go over the incorrect topics. Final revision of CPT Project and redo/go over video.\n",
    "\n",
    "**Weekend of May 3rd**: Take 2nd practice mc and go over college board mcs. \n",
    "\n",
    "**Week of May 5th-May 12th**: Review incorrect questions from MCQ 2 practice from book and go over the incorrect topics. Begin preparing for the FRQ by reviewing code and explaining code segments and their functionality, for each line.\n",
    "\n",
    "**May 12th to Exam Day**: Last minute topics that need review + Final MCQ Check"
   ]
  },
  {
   "cell_type": "markdown",
   "metadata": {},
   "source": [
    "<script src=\"https://utteranc.es/client.js\"\n",
    "        repo=\"nighthawkcoders/shriya2025\"\n",
    "        issue-term=\"title\"\n",
    "        label=\"blogpost-comment\"\n",
    "        theme=\"github-light\"\n",
    "        crossorigin=\"anonymous\"\n",
    "        async>\n",
    "</script>"
   ]
  }
 ],
 "metadata": {
  "kernelspec": {
   "display_name": "venv",
   "language": "python",
   "name": "python3"
  },
  "language_info": {
   "codemirror_mode": {
    "name": "ipython",
    "version": 3
   },
   "file_extension": ".py",
   "mimetype": "text/x-python",
   "name": "python",
   "nbconvert_exporter": "python",
   "pygments_lexer": "ipython3",
   "version": "3.12.7"
  }
 },
 "nbformat": 4,
 "nbformat_minor": 2
}
