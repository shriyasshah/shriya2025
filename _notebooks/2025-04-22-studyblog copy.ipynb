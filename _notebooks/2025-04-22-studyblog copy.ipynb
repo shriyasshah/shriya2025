{
 "cells": [
  {
   "cell_type": "raw",
   "metadata": {
    "vscode": {
     "languageId": "raw"
    }
   },
   "source": [
    "---\n",
    "layout: post\n",
    "title: Study Plan/Guide\n",
    "description: Study blog with tips and ways to study for the AP Exam\n",
    "permalink: /studyblog\n",
    "---"
   ]
  },
  {
   "cell_type": "markdown",
   "metadata": {},
   "source": [
    "# MC practice \n",
    "\n",
    "Link to college board for 2018, 2020, and 2021 AP MC: [HERE](https://apclassroom.collegeboard.org/103/home)\n",
    "\n",
    "## Reflection Blogs: \n",
    "\n",
    "- [2020](https://shriyasshah.github.io/shriya2025/2024/11/19/APexam_IPYNB_2_.html)\n",
    "\n",
    "- [2018](https://shriyasshah.github.io/shriya2025/2025/02/01/MCQ2blog_IPYNB_2_.html)\n",
    "\n",
    "\n",
    "# AP Exam Prep Book\n",
    "\n",
    "<img src=\"{{site.baseurl}}/images/prep.png\" width = \"100%\">\n",
    "\n",
    "# Team Teach Blogs + Notes\n",
    "\n",
    "- [Benificial & Harmful](https://shriyasshah.github.io/shriya2025/5.1homework/)\n",
    "\n",
    "- [Digital Divide](https://shriyasshah.github.io/shriya2025/digitaldividehw/)\n",
    "\n",
    "- [Computing Bias](https://shriyasshah.github.io/shriya2025/5.3homework/)\n",
    "\n",
    "- [Crowdsourcing](https://shriyasshah.github.io/shriya2025/5.4homework/)\n",
    "\n",
    "- [Legal & Ethical Concerns](https://shriyasshah.github.io/shriya2025/5.5homework/)\n",
    "\n",
    "- [Safe Computing](https://shriyasshah.github.io/shriya2025/safecomputing/)\n",
    "\n",
    "- [Binary Search Algorithim](https://shriyasshah.github.io/shriya2025/5.7homework/)\n",
    "\n",
    "- [Lists & Filtering Algorithims](https://shriyasshah.github.io/shriya2025/5.8homework/)\n",
    "\n",
    "- [Random Algorithims](https://shriyasshah.github.io/shriya2025/5.9homework/)\n",
    "\n",
    "- [Big O & Algorithim Efficency](https://shriyasshah.github.io/shriya2025/bigOAEhomework)"
   ]
  }
 ],
 "metadata": {
  "kernelspec": {
   "display_name": "venv",
   "language": "python",
   "name": "python3"
  },
  "language_info": {
   "codemirror_mode": {
    "name": "ipython",
    "version": 3
   },
   "file_extension": ".py",
   "mimetype": "text/x-python",
   "name": "python",
   "nbconvert_exporter": "python",
   "pygments_lexer": "ipython3",
   "version": "3.12.7"
  }
 },
 "nbformat": 4,
 "nbformat_minor": 2
}
