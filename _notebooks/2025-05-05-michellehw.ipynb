{
 "cells": [
  {
   "cell_type": "raw",
   "metadata": {
    "vscode": {
     "languageId": "raw"
    }
   },
   "source": [
    "---\n",
    "layout: post\n",
    "title: Michelle Hw\n",
    "description: Hw and popcorn hacks\n",
    "permalink: /mhw\n",
    "---"
   ]
  },
  {
   "cell_type": "markdown",
   "metadata": {},
   "source": [
    "<script src=\"https://utteranc.es/client.js\"\n",
    "        repo=\"nighthawkcoders/shriya2025\"\n",
    "        issue-term=\"title\"\n",
    "        label=\"blogpost-comment\"\n",
    "        theme=\"github-light\"\n",
    "        crossorigin=\"anonymous\"\n",
    "        async>\n",
    "</script>"
   ]
  },
  {
   "cell_type": "markdown",
   "metadata": {},
   "source": [
    "# popcorn hack 1"
   ]
  },
  {
   "cell_type": "code",
   "execution_count": null,
   "metadata": {},
   "outputs": [],
   "source": [
    "def binary_to_decimal(binary_str):\n",
    "    decimal = 0\n",
    "    for i in range(len(binary_str)):\n",
    "        decimal += int(binary_str[-(i + 1)]) * (2 ** i)\n",
    "    return decimal\n",
    "\n",
    "#Get user input\n",
    "binary_input = input(\"Enter a binary number: \")\n",
    "decimal_output = binary_to_decimal(binary_input)\n",
    "print(f\"The decimal representation of {binary_input} is {decimal_output}.\")"
   ]
  },
  {
   "cell_type": "markdown",
   "metadata": {},
   "source": [
    "# popcorn hack 2"
   ]
  },
  {
   "cell_type": "code",
   "execution_count": null,
   "metadata": {},
   "outputs": [],
   "source": [
    "import random\n",
    "import time\n",
    "\n",
    "def binary_addition_battle():\n",
    "    # Generate two random binary numbers (up to 8 bits)\n",
    "    num1 = bin(random.randint(0, 255))[2:]\n",
    "    num2 = bin(random.randint(0, 255))[2:]\n",
    "    \n",
    "    # Show the binary numbers\n",
    "    print(f\"Add the following binary numbers:\")\n",
    "    print(f\"Number 1: {num1}\")\n",
    "    print(f\"Number 2: {num2}\")\n",
    "    \n",
    "    # Start the timer\n",
    "    start_time = time.time()\n",
    "    \n",
    "    # Ask the user for the sum\n",
    "    user_answer = input(\"Your answer (in binary): \")\n",
    "    \n",
    "    # End the timer\n",
    "    end_time = time.time()\n",
    "    \n",
    "    # Calculate the correct binary sum\n",
    "    correct_answer = bin(int(num1, 2) + int(num2, 2))[2:]\n",
    "    \n",
    "    # Check if the answer is correct\n",
    "    if user_answer == correct_answer:\n",
    "        print(f\"Correct! You took {end_time - start_time:.2f} seconds.\")\n",
    "        print(f\"Your score: +10 points!\")\n",
    "    else:\n",
    "        print(f\"Oops! The correct answer was {correct_answer}.\")\n",
    "        print(f\"Your score: -5 points.\")\n",
    "\n",
    "# Run the game\n",
    "binary_addition_battle()"
   ]
  },
  {
   "cell_type": "markdown",
   "metadata": {},
   "source": [
    "# hw hack"
   ]
  },
  {
   "cell_type": "code",
   "execution_count": null,
   "metadata": {},
   "outputs": [],
   "source": [
    "HW HACK\n",
    "import random\n",
    "import time\n",
    "\n",
    "def binary_addition(a, b):\n",
    "    return bin(int(a, 2) + int(b, 2))[2:]\n",
    "\n",
    "def binary_subtraction(a, b):\n",
    "    if int(a, 2) < int(b, 2):\n",
    "        return \"Error\"\n",
    "    return bin(int(a, 2) - int(b, 2))[2:]\n",
    "\n",
    "def decimal_to_binary(n):\n",
    "    return bin(n)[2:]\n",
    "\n",
    "def binary_to_decimal(b):\n",
    "    return int(b, 2)\n",
    "\n",
    "def binary_battle_royale():\n",
    "    print(\"👾 Welcome to Binary Battle Royale! 👾\")\n",
    "    score = 0\n",
    "    total_rounds = 3\n",
    "\n",
    "    for round_num in range(1, total_rounds + 1):\n",
    "        print(f\"\\n⚡ Round {round_num} ⚡\")\n",
    "        mode = random.choice([\"addition\", \"subtraction\", \"dec_to_bin\", \"bin_to_dec\"])\n",
    "\n",
    "        if mode == \"addition\":\n",
    "            num1 = bin(random.randint(0, 15))[2:]\n",
    "            num2 = bin(random.randint(0, 15))[2:]\n",
    "            print(f\"Add these two binary numbers: {num1} + {num2}\")\n",
    "            user_answer = input(\"Your answer (binary): \").strip()\n",
    "            correct_answer = binary_addition(num1, num2)\n",
    "            if user_answer == correct_answer:\n",
    "                print(\"✅ Correct!\")\n",
    "                score += 1\n",
    "            else:\n",
    "                print(f\"❌ Incorrect. The correct answer was {correct_answer}.\")\n",
    "\n",
    "        elif mode == \"subtraction\":\n",
    "            num1_val = random.randint(8, 31)\n",
    "            num2_val = random.randint(0, num1_val)\n",
    "            num1 = bin(num1_val)[2:]\n",
    "            num2 = bin(num2_val)[2:]\n",
    "            print(f\"Subtract these two binary numbers: {num1} - {num2}\")\n",
    "            user_answer = input(\"Your answer (binary): \").strip()\n",
    "            correct_answer = binary_subtraction(num1, num2)\n",
    "            if user_answer == correct_answer:\n",
    "                print(\"✅ Correct!\")\n",
    "                score += 1\n",
    "            else:\n",
    "                print(f\"❌ Incorrect. The correct answer was {correct_answer}.\")\n",
    "\n",
    "        elif mode == \"dec_to_bin\":\n",
    "            decimal_number = random.randint(0, 31)\n",
    "            print(f\"Convert this decimal number to binary: {decimal_number}\")\n",
    "            user_answer = input(\"Your answer (binary): \").strip()\n",
    "            correct_answer = decimal_to_binary(decimal_number)\n",
    "            if user_answer == correct_answer:\n",
    "                print(\"✅ Correct!\")\n",
    "                score += 1\n",
    "            else:\n",
    "                print(f\"❌ Incorrect. The correct answer was {correct_answer}.\")\n",
    "\n",
    "        elif mode == \"bin_to_dec\":\n",
    "            binary_number = bin(random.randint(0, 31))[2:]\n",
    "            print(f\"Convert this binary number to decimal: {binary_number}\")\n",
    "            user_answer = input(\"Your answer (decimal): \").strip()\n",
    "            correct_answer = str(binary_to_decimal(binary_number))\n",
    "            if user_answer == correct_answer:\n",
    "                print(\"✅ Correct!\")\n",
    "                score += 1\n",
    "            else:\n",
    "                print(f\"❌ Incorrect. The correct answer was {correct_answer}.\")\n",
    "\n",
    "    print(\"\\n🏆 Game Over! 🏆\")\n",
    "    print(f\"Your final score: {score}/{total_rounds}\")\n",
    "    if score == total_rounds:\n",
    "        print(\"🌟 Amazing job! You're a Binary Master!\")\n",
    "    elif score >= total_rounds // 2:\n",
    "        print(\"👍 Good effort! Keep practicing!\")\n",
    "    else:\n",
    "        print(\"💡 Don't worry — review the rules and try again!\")\n",
    "\n",
    "# --- Start the game ---\n",
    "binary_battle_royale()"
   ]
  },
  {
   "cell_type": "markdown",
   "metadata": {},
   "source": [
    "# questions \n",
    "\n",
    "To convert a binary number to decimal, multiply each bit by 2 raised to its position index (starting from 0 on the right) and sum the results.\n",
    "\n",
    "For the binary number 11111111, the decimal value is 255."
   ]
  }
 ],
 "metadata": {
  "kernelspec": {
   "display_name": "venv",
   "language": "python",
   "name": "python3"
  },
  "language_info": {
   "codemirror_mode": {
    "name": "ipython",
    "version": 3
   },
   "file_extension": ".py",
   "mimetype": "text/x-python",
   "name": "python",
   "nbconvert_exporter": "python",
   "pygments_lexer": "ipython3",
   "version": "3.12.7"
  }
 },
 "nbformat": 4,
 "nbformat_minor": 2
}
