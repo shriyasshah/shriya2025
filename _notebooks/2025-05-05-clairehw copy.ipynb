{
 "cells": [
  {
   "cell_type": "raw",
   "metadata": {
    "vscode": {
     "languageId": "raw"
    }
   },
   "source": [
    "---\n",
    "layout: post\n",
    "title: Personal Blog\n",
    "description: Final blog about personal accomplishments and learnings\n",
    "permalink: /finalblog\n",
    "---"
   ]
  },
  {
   "cell_type": "markdown",
   "metadata": {},
   "source": [
    "# Socials \n",
    "\n",
    "LinkedIn: [Shriya's Linkedin](https://www.linkedin.com/in/shriya-shah-a31666365/)\n",
    "\n",
    "Resume: "
   ]
  },
  {
   "cell_type": "markdown",
   "metadata": {},
   "source": [
    "<script src=\"https://utteranc.es/client.js\"\n",
    "        repo=\"nighthawkcoders/shriya2025\"\n",
    "        issue-term=\"title\"\n",
    "        label=\"blogpost-comment\"\n",
    "        theme=\"github-light\"\n",
    "        crossorigin=\"anonymous\"\n",
    "        async>\n",
    "</script>"
   ]
  },
  {
   "cell_type": "markdown",
   "metadata": {},
   "source": [
    "# Overview of Projects \n",
    "\n",
    "## DNA Dynamite - OCS/Illumina project\n",
    "\n",
    "<img src=\"{{site.baseurl}}/images/DNA.png\" width = \"100%\">\n",
    "\n",
    "- Contributed code to frontend and backend \n",
    "\n",
    "- Created the orignial and new/improved UI design for game"
   ]
  },
  {
   "cell_type": "markdown",
   "metadata": {},
   "source": [
    "# Homework Certification: \n",
    "\n",
    "Link to hw grading spreadsheets: \n",
    "\n",
    "ADD screenshot of all the hw notebooks \n"
   ]
  },
  {
   "cell_type": "markdown",
   "metadata": {},
   "source": [
    "# Showcasing projects \n",
    "\n",
    "- ADD night at muesuem pcitures from this and last tri. \n",
    "\n",
    "- Picutres from pilot city \n",
    "\n",
    "- Presenting and updating paretns and other family members\n",
    "\n",
    "- Posting on linked in = post a post about selling our website "
   ]
  }
 ],
 "metadata": {
  "kernelspec": {
   "display_name": "venv",
   "language": "python",
   "name": "python3"
  },
  "language_info": {
   "codemirror_mode": {
    "name": "ipython",
    "version": 3
   },
   "file_extension": ".py",
   "mimetype": "text/x-python",
   "name": "python",
   "nbconvert_exporter": "python",
   "pygments_lexer": "ipython3",
   "version": "3.12.7"
  }
 },
 "nbformat": 4,
 "nbformat_minor": 2
}
